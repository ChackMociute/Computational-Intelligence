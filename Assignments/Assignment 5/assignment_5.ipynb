{
 "cells": [
  {
   "cell_type": "markdown",
   "id": "3ea717da-5328-4996-a7d3-f949d1b74dbd",
   "metadata": {
    "id": "QRBDdr0SEqpT"
   },
   "source": [
    "# Assignment 5"
   ]
  },
  {
   "cell_type": "markdown",
   "id": "9fa18eb1-e4be-412c-9cb3-b97b45da6315",
   "metadata": {
    "id": "8xd57TRzExEr"
   },
   "source": [
    "**Assignment 5: Neuroevolution: Neural Architecture**\n",
    "\n",
    "**Goal**: Get familiar with how neuroevolution is used for neural network architecture optimization by optimizing a neural network using neuroevolution."
   ]
  },
  {
   "cell_type": "markdown",
   "id": "459c67bc-d529-4e80-9293-db69f50f911e",
   "metadata": {
    "id": "Jxgc7c--P0GH"
   },
   "source": [
    "## 1 Understanding the problem\n",
    "\n"
   ]
  },
  {
   "cell_type": "markdown",
   "id": "bf3be99e-8181-4fbe-975d-4925a26f282f",
   "metadata": {
    "id": "oRteDLEPP3eX"
   },
   "source": [
    "*Problem description goes here*"
   ]
  },
  {
   "cell_type": "code",
   "execution_count": 1,
   "id": "2b0c3584-e1fc-4a69-8402-84d9a28efc4b",
   "metadata": {},
   "outputs": [],
   "source": [
    "import numpy as np\n",
    "import torch\n",
    "import matplotlib.pyplot as plt"
   ]
  }
 ],
 "metadata": {
  "kernelspec": {
   "display_name": "Python 3 (ipykernel)",
   "language": "python",
   "name": "python3"
  },
  "language_info": {
   "codemirror_mode": {
    "name": "ipython",
    "version": 3
   },
   "file_extension": ".py",
   "mimetype": "text/x-python",
   "name": "python",
   "nbconvert_exporter": "python",
   "pygments_lexer": "ipython3",
   "version": "3.10.2"
  }
 },
 "nbformat": 4,
 "nbformat_minor": 5
}
