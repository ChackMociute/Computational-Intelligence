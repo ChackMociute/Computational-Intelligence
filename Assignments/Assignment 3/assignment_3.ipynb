{
 "cells": [
  {
   "cell_type": "markdown",
   "metadata": {
    "id": "QRBDdr0SEqpT"
   },
   "source": [
    "# Assignment 3"
   ]
  },
  {
   "cell_type": "markdown",
   "metadata": {
    "id": "8xd57TRzExEr"
   },
   "source": [
    "**Assignment 3: Evolutionary Algorithms**\n",
    "\n",
    "**Goal**: Get familiar with evolutionary algorithms by implementing it and applying it to a given non-differentiable optimization task."
   ]
  },
  {
   "cell_type": "markdown",
   "metadata": {
    "id": "yHNgWB1iFDu5"
   },
   "source": [
    "In this assignment, we are going to learn about evolutionary algorithms (EAs). The goal is to implement components of an evolutionary algorithm: a recombination operator, a mutation operator, and selection mechanisms, and analyze their behavior. This assignment is open to any choice of the aforementioned components​ as long as they are well motivated.\n",
    "\n",
    "We are interested in optimizing a given **black-box** function that could be queried (i.e., it returns a value of the objective for given input values), but the gradient wrt the input cannot be calculated. The input to the system is a vector:\n",
    "$$\\mathbf{x} =[\\alpha_0, n, \\beta, \\alpha]^{\\top} \\in [−2,10] \\times [0,10] \\times [−5,20] \\times [500,2500]. $$\n",
    "\n",
    "The optimized function is based on the gene repressilator model. For details, please see Section 4.2 in <a href='https://arxiv.org/abs/2002.02869' target='_blank'>HERE</a>."
   ]
  },
  {
   "cell_type": "markdown",
   "metadata": {
    "id": "Jxgc7c--P0GH"
   },
   "source": [
    "## 1. Understanding the problem"
   ]
  },
  {
   "cell_type": "markdown",
   "metadata": {
    "id": "oRteDLEPP3eX"
   },
   "source": [
    "The considered problem is about finding parameter values of a model widely used in biology, namely, the gene repressilator model. This model represents a simple network in which a gene (mRNA) is produced by a protein, and then this gene is used to produce another protein. Altogether, there are 3 genes and 3 proteins that are connected as follows: $m_1 \\rightarrow p_1$, $p_1 \\rightarrow m_2$, $m_2 \\rightarrow p_2$, $p_2 \\rightarrow m_3$, $m_3 \\rightarrow p_3$, $p_3 \\rightarrow m_1$.\n",
    "\n",
    "Please run the code below and spend a while on analyzing the signals in the model. Think of the osscilatory character of the signals.\n",
    "\n",
    "If any code line is unclear to you, please read on that in numpy or matplotlib docs."
   ]
  },
  {
   "cell_type": "code",
   "execution_count": null,
   "metadata": {
    "id": "g4wCnPRz-MaE"
   },
   "outputs": [],
   "source": [
    "import pickle\n",
    "import copy\n",
    "import numpy as np\n",
    "import matplotlib.pyplot as plt\n",
    "from scipy.integrate import solve_ivp\n",
    "\n",
    "EPS = 1.e-7"
   ]
  },
  {
   "cell_type": "code",
   "execution_count": null,
   "metadata": {
    "id": "Xm4e0Utl-30c"
   },
   "outputs": [],
   "source": [
    "# PLEASE DO NOT REMOVE!\n",
    "# This is the main class for the gene repressilator model.\n",
    "# There is no need to understand how it works! You can treat it as a black-box.\n",
    "# It is important to realize that we can always ask this object to give us \n",
    "# an evaluation of given parameter values.\n",
    "class Repressilator(object):\n",
    "  def __init__(self, y_real, params):\n",
    "    super().__init__()\n",
    "    self.y_real = y_real.copy()\n",
    "    self.params = params.copy()\n",
    "\n",
    "  # The definition of the gene repressilator model as a system of ODEs.\n",
    "  def repressilator_model(self, t, y):\n",
    "    m1, m2, m3, p1, p2, p3 = y[0], y[1], y[2], y[3], y[4], y[5]\n",
    "\n",
    "    alpha0 = self.params['alpha0']\n",
    "    n = self.params['n']\n",
    "    beta = self.params['beta']\n",
    "    alpha = self.params['alpha']\n",
    "\n",
    "    dm1_dt = -m1 + alpha / (1. + p3**n) + alpha0\n",
    "    dp1_dt = -beta * (p1 - m1)\n",
    "    dm2_dt = -m2 + alpha / (1. + p1**n) + alpha0\n",
    "    dp2_dt = -beta * (p2 - m2)\n",
    "    dm3_dt = -m3 + alpha / (1. + p2**n) + alpha0\n",
    "    dp3_dt = -beta * (p3 - m3)\n",
    "\n",
    "    return dm1_dt, dm2_dt, dm3_dt, dp1_dt, dp2_dt, dp3_dt\n",
    "\n",
    "  # A numerial solver for the model (here we use Runge-Kutta 4.5)\n",
    "  def solve_repressilator(self):\n",
    "    # we need to use lambda function if we want to pass some parameters\n",
    "    solution = solve_ivp(lambda t, y: self.repressilator_model(t, y), \n",
    "                         t_span=(self.params['t0'], self.params['t1']),\n",
    "                         y0=self.params['y0'],\n",
    "                         method='RK45', t_eval=self.params['t_points'])\n",
    "    y_points = np.asarray(solution.y)\n",
    "    return self.params['t_points'], y_points\n",
    "\n",
    "  # An auxiliary function: setting parameters.\n",
    "  def set_params(self, x):\n",
    "    self.params['alpha0'] = x[0]\n",
    "    self.params['n'] = x[1]\n",
    "    self.params['beta'] = x[2]\n",
    "    self.params['alpha'] = x[3]\n",
    "\n",
    "  # Calculating the objective function.\n",
    "  # Here, we use the Euclidean distance between the real data and the synthetic data.\n",
    "  @staticmethod\n",
    "  def loss(y_real, y_model):\n",
    "    # we assume only m's are observed!\n",
    "    y_r = y_real[0:3]\n",
    "    y_m = y_model[0:3]\n",
    "    if y_r.shape[1] == y_m.shape[1]:\n",
    "      return np.mean(np.sqrt(np.sum((y_r - y_m)**2, 0)))\n",
    "    else:\n",
    "      return np.infty\n",
    "\n",
    "  def objective(self, x):\n",
    "    if len(x.shape) > 1:\n",
    "      objective_values = []\n",
    "      for i in range(x.shape[0]):\n",
    "        xi = x[i]\n",
    "        self.set_params(xi)\n",
    "\n",
    "        _, y_model = self.solve_repressilator()\n",
    "        objective_values.append(self.loss(self.y_real, y_model))\n",
    "\n",
    "      objective_values = np.asarray(objective_values)\n",
    "    else:\n",
    "      self.set_params(x)\n",
    "\n",
    "      _, y_model = self.solve_repressilator()\n",
    "      objective_values = self.loss(self.y_real, y_model)\n",
    "\n",
    "    return objective_values"
   ]
  },
  {
   "cell_type": "code",
   "execution_count": null,
   "metadata": {
    "id": "9Hi9DWvdhG2L"
   },
   "outputs": [],
   "source": [
    "# PLEASE DO NOT REMOVE!\n",
    "# Initialize the problem.\n",
    "# Here we set the real parameters and generate \"real\" data. To make the problem \n",
    "# more realistic, we add a small Gaussian noise.\n",
    "params = {}\n",
    "params['alpha0'] = 1.1\n",
    "params['n'] = 2.9\n",
    "params['beta'] = 5.5\n",
    "params['alpha'] = 500\n",
    "params['t0'] = 0.\n",
    "params['t1'] = 60.5\n",
    "params['t_points'] = np.asarray([ 0. ,  0.5,  1. ,  1.5,  2. ,  2.5,  3. ,  3.5,  \n",
    "                                 4. ,  4.5,  5. , 5.5,  6. ,  6.5,  7. ,  7.5,  \n",
    "                                 8. ,  8.5,  9. ,  9.5, 10. , 10.5, 11. , 11.5, \n",
    "                                 12. , 12.5, 13. , 13.5, 14. , 14.5, 15. , 15.5, \n",
    "                                 16. , 16.5, 17. , 17.5, 18. , 18.5, 19. , 19.5, \n",
    "                                 20. , 20.5, 21. , 21.5, 22. , 22.5, 23. , 23.5, \n",
    "                                 24. , 24.5, 25. , 25.5, 26. , 26.5, 27. , 27.5, \n",
    "                                 28. , 28.5, 29. , 29.5, 30. , 30.5, 31. , 31.5, \n",
    "                                 32. , 32.5, 33. , 33.5, 34. , 34.5, 35. , 35.5, \n",
    "                                 36. , 36.5, 37. , 37.5, 38. , 38.5, 39. , 39.5, \n",
    "                                 40. , 40.5, 41. , 41.5, 42. , 42.5, 43. , 43.5, \n",
    "                                 44. , 44.5, 45. , 45.5, 46. , 46.5, 47. , 47.5, \n",
    "                                 48. , 48.5, 49. , 49.5, 50. , 50.5, 51. , 51.5, \n",
    "                                 52. , 52.5, 53. , 53.5, 54. , 54.5, 55. , 55.5, \n",
    "                                 56. , 56.5, 57. , 57.5, 58. , 58.5, 59. , 59.5])\n",
    "params['x0'] = np.asarray([[5.64167522, 2.07180539, 3.56690274, 7.0015145 ]])\n",
    "params['y0'] = np.asarray([0.0, 0.0, 0.0, 2.0, 1.0, 3.0])\n",
    "\n",
    "# Generate \"real\" data\n",
    "r = Repressilator([0], params)\n",
    "_, y_real = r.solve_repressilator()\n",
    "del(r) # we remove the object, just in case\n",
    "y_real = y_real + np.random.randn(*y_real.shape) * 5. # add noise!"
   ]
  },
  {
   "cell_type": "code",
   "execution_count": null,
   "metadata": {
    "id": "bnDz_yGeuOnh"
   },
   "outputs": [],
   "source": [
    "# PLEASE DO NOT REMOVE\n",
    "# Here, we plot all signals in the model.\n",
    "# Note that later on, we assume that only gene expression (i.e., m1, m2, m3)\n",
    "# are observed (blue plots) and proteins (i.e. p1, p2, p3) are unobserved (in red).\n",
    "t = params['t_points']\n",
    "\n",
    "fig_data, axs = plt.subplots(2,3,figsize=(20, 4))\n",
    "fig_data.tight_layout()\n",
    "\n",
    "for i in range(2):\n",
    "  for j in range(3):\n",
    "    if i == 0:\n",
    "      title = 'm'\n",
    "      color = 'b'\n",
    "    else:\n",
    "      title = 'p'\n",
    "      color = 'r'\n",
    "    \n",
    "    axs[i,j].plot(t, y_real[2*i+j], color)\n",
    "    axs[i,j].set_title(title + str(j+1))"
   ]
  },
  {
   "cell_type": "markdown",
   "metadata": {
    "id": "wgc_GFOyRBEi"
   },
   "source": [
    "## 2. Evolutionary Algorithms"
   ]
  },
  {
   "cell_type": "markdown",
   "metadata": {
    "id": "gDVf1vyORGUB"
   },
   "source": [
    "In this assignment, you are asked to implement an evolutionary algorithm (EA). Please take a look at the class below and fill in the missing parts. Please keep in mind that you are free to choose any operations as lons as they are appropriate for evolutionary algorithms.\n",
    "\n",
    "NOTE: Please pay attention to the inputs and outputs of each function."
   ]
  },
  {
   "cell_type": "markdown",
   "metadata": {
    "id": "76QTS-BHRlch"
   },
   "source": [
    "**Question 1 (0-0.5pt):** Do you use a mutation operator? If yes, please explain in detail your choice. If not, please explain why not.\n",
    "\n",
    "**Answer:**\n",
    "PLEASE FILL IN"
   ]
  },
  {
   "cell_type": "markdown",
   "metadata": {
    "id": "3tXZyvcW0Cr_"
   },
   "source": [
    "**Question 2 (0-0.5pt):** Do you use a cross-over operator? If yes, please explain in detail your choice. If not, please explain why not.\n",
    "\n",
    "**Answer:**\n",
    "PLEASE FILL IN"
   ]
  },
  {
   "cell_type": "markdown",
   "metadata": {
    "id": "cgDvSEhQgBJ4"
   },
   "source": [
    "**Question 3 (0-0.5pt):** What kind of selection mechanism do you use? Please explain in detail and motivation your choice.\n",
    "\n",
    "**Answer:**\n",
    "PLEASE FILL IN"
   ]
  },
  {
   "cell_type": "markdown",
   "metadata": {
    "id": "N6gVMZQzgIRo"
   },
   "source": [
    "**Question 4 (0-0.5pt):** Do you use any other operation? If yes, please explain and motivate your choice.\n",
    "\n",
    "**Answer:**\n",
    "PLEASE FILL IN"
   ]
  },
  {
   "cell_type": "markdown",
   "metadata": {
    "id": "AquMit-ogVOc"
   },
   "source": [
    "**Question 5 (0-0.5-1pt):** Please provide a pseudo-code for your evolutionary algorithm. Please try to be as formal as possible!\n",
    "\n",
    "**Answer:**\n",
    "PLEASE FILL IN"
   ]
  },
  {
   "cell_type": "code",
   "execution_count": null,
   "metadata": {
    "id": "Vtv_pAkmOrS3"
   },
   "outputs": [],
   "source": [
    "#=========\n",
    "# GRADING:\n",
    "# 0 \n",
    "# 0.5 pt if code works but some functions are incorrect and it is badly explained\n",
    "# 1.0 pt if code works but some functions are incorrect\n",
    "# 2.0 pt if code works but it does not correspond to the description above and it is badly explained\n",
    "# 2.5 pt if code works and it is well explained, but it does not correspond to the description above\n",
    "# 3.0 pt if code works and it is aligned with the description about, but it is badly explained\n",
    "# 3.5 pt if code works and it is aligned with the description about, and it is well explained\n",
    "# 4.0 pt if code works, it is as it was described, it is well explained, and the proposed operations are beyond the lecture!\n",
    "#=========\n",
    "# Implement the Evolutionary Algorithm (EA) algorithm. \n",
    "# It is equivalent to implementing the step function.\n",
    "class EA(object):\n",
    "  def __init__(self, repressilator, pop_size, bounds_min=None, bounds_max=None):\n",
    "      self.repressilator = repressilator\n",
    "      self.pop_size = pop_size\n",
    "      self.bounds_min = bounds_min\n",
    "      self.bounds_max = bounds_max\n",
    "      #-------\n",
    "      # PLEASE FILL IN\n",
    "      # all necessary hyperparameters come here\n",
    "      #------- \n",
    "  \n",
    "  #-------\n",
    "  # PLEASE FILL IN\n",
    "  # all necessary operations (e.g., mutation, selection) must come here.\n",
    "  #-------\n",
    "\n",
    "  def parent_selection(self, x_old, f_old):\n",
    "\n",
    "    # do something\n",
    "\n",
    "    x_parents = x_old\n",
    "    f_parents = f_old\n",
    "\n",
    "    return x_parents, f_parents\n",
    "\n",
    "  def recombination(self, x_parents, f_parents):\n",
    "\n",
    "    # do something\n",
    "\n",
    "    return x_children\n",
    "    \n",
    "  def mutation(self, x_children):\n",
    "\n",
    "    # do something\n",
    "\n",
    "    return x_children\n",
    "\n",
    "  def survivor_selection(x_old, x_children, f_old, f_children):\n",
    "\n",
    "    # do something\n",
    "    x = np.concatenate([x_old, x_children])\n",
    "    f = np.concatenate([f_old, f_children])\n",
    "\n",
    "    # \n",
    "\n",
    "    return x, f\n",
    "\n",
    "  # Evaluation step: DO NOT REMOVE!\n",
    "  def evaluate(self, x):\n",
    "    return self.repressilator.objective(x)\n",
    "  \n",
    "  def step(self, x_old, f_old):\n",
    "    #-------\n",
    "    # PLEASE FILL IN\n",
    "    # NOTE: This function must return x, f\n",
    "    # where x - population\n",
    "    #       f - fitness values of the population\n",
    "    #-------\n",
    "\n",
    "    x_parents, f_parents = self.parent_selection(x_old, f_old)\n",
    "\n",
    "    x_children = self.recombination(x_parents, f_parents)\n",
    "\n",
    "    x_children = self.mutation(x_children)\n",
    "\n",
    "    f_children = self.evaluate(x_children)\n",
    "\n",
    "    x, f = self.survivor_selection(x_old, x_children, f_old, f_children)\n",
    "    \n",
    "    return x, f"
   ]
  },
  {
   "cell_type": "markdown",
   "metadata": {
    "id": "bwaou1x-gmx3"
   },
   "source": [
    "**NOTE 1**\n",
    "\n",
    "Since this assignment allows you implementing your own operations, this is difficult to prepare a code for that. Therefore, please use the code below to find the best set of your hyperparameters in a separate file, and then present your analysis for the best valyes of the hyperparameters here."
   ]
  },
  {
   "cell_type": "markdown",
   "metadata": {
    "id": "kvX88kN-irAD"
   },
   "source": [
    "**NOTE 2**\n",
    "\n",
    "Additionally, please do try various population sizes (25, 50, 100, ...). You will be asked about it later."
   ]
  },
  {
   "cell_type": "code",
   "execution_count": null,
   "metadata": {
    "id": "JqbU9_OGwyZA"
   },
   "outputs": [],
   "source": [
    "# PLEASE DO NOT REMOVE!\n",
    "num_generations = 50 # if necessary, please increase the number of generations\n",
    "pop_size = 100\n",
    "bounds_min = [-2., 0., -5., 0.]\n",
    "bounds_max = [10., 10., 20., 2500.]\n",
    "#-------\n",
    "# PLEASE FILL IN!\n",
    "# Your hyperparams go here.\n",
    "# PLEASE USE THE VALUES OF THE HYPERPARAMETERS FOR WHICH YOU OBTAINED THE BEST RESULTS.\n",
    "# DO NOT ITERATE OVER THEM!\n",
    "#-------\n",
    "\n",
    "# Initialize the repressilator\n",
    "repressilator = Repressilator(y_real, params)\n",
    "\n",
    "#-------\n",
    "# PLEASE FILL IN!\n",
    "# Your object goes here:\n",
    "ea = EA()\n",
    "#-------\n",
    "\n",
    "# Init the population\n",
    "x = np.random.uniform(low=bounds_min, high=bounds_max, size=(pop_size, 4))\n",
    "f = ea.evaluate(x)\n",
    "\n",
    "# We want to gather populations and values of the best candidates to further\n",
    "# analyze the algorithm.\n",
    "populations = []\n",
    "populations.append(x)\n",
    "f_best = [f.min()]\n",
    "\n",
    "# Run the EA.\n",
    "for i in range(num_generations):\n",
    "  if i % int(num_generations * 0.1) == 0:\n",
    "    print('Generation: {}, best fitness: {:.2f}'.format(i, f.min()))\n",
    "  x, f = ea.step(x, f)\n",
    "  populations.append(x)\n",
    "  if f.min() < f_best[-1]:\n",
    "    f_best.append(f.min())\n",
    "  else:\n",
    "    f_best.append(f_best[-1])\n",
    "print('FINISHED!')"
   ]
  },
  {
   "cell_type": "code",
   "execution_count": null,
   "metadata": {
    "id": "VipnIg0-0kNN"
   },
   "outputs": [],
   "source": [
    "# PLEASE DO NOT REMOVE\n",
    "# Generate signals for the best performing parameter values\n",
    "repressilator.set_params(x[f.argmin()],)\n",
    "t, y_best = repressilator.solve_repressilator()\n",
    "\n",
    "# Create plots\n",
    "fig_ea, axs = plt.subplots(2,3,figsize=(20, 4))\n",
    "fig_ea.tight_layout()\n",
    "\n",
    "for i in range(2):\n",
    "  for j in range(3):\n",
    "    if i == 0:\n",
    "      title = 'm'\n",
    "      color = 'b'\n",
    "      color_m = 'm'\n",
    "    else:\n",
    "      title = 'p'\n",
    "      color = 'r'\n",
    "      color_m = 'c'\n",
    "    \n",
    "    axs[i,j].plot(t, y_real[2*i+j], color, label='Data')\n",
    "    axs[i,j].plot(t, y_best[2*i+j], color_m, label='EA')\n",
    "    axs[i,j].set_title(title + str(j+1))\n",
    "    axs[i,j].legend()"
   ]
  },
  {
   "cell_type": "code",
   "execution_count": null,
   "metadata": {
    "id": "VtPr6K8e0kPj"
   },
   "outputs": [],
   "source": [
    "# PLEASE DO NOT REMOVE\n",
    "# Generate scatterplots for the populations\n",
    "gens = [0, num_generations//4, num_generations//2, num_generations]\n",
    "fig_ea_pops, axs = plt.subplots(1,4,figsize=(16, 4))\n",
    "fig_ea_pops.tight_layout()\n",
    "\n",
    "\n",
    "for i in range(len(gens)):\n",
    "  pop_i = populations[gens[i]]\n",
    "  axs[0].scatter(pop_i[:,0], pop_i[:,1], label=str(gens[i]))\n",
    "  axs[1].scatter(pop_i[:,0], pop_i[:,2], label=str(gens[i]))\n",
    "  axs[2].scatter(pop_i[:,2], pop_i[:,3], label=str(gens[i]))\n",
    "  axs[3].scatter(pop_i[:,1], pop_i[:,2], label=str(gens[i]))\n",
    "axs[0].legend(), axs[1].legend(), axs[2].legend(), axs[3].legend()\n",
    "axs[0].set_title(r'$\\alpha_0$ vs. $n$')\n",
    "axs[1].set_title(r'$\\alpha_0$ vs. $\\beta$')\n",
    "axs[2].set_title(r'$\\beta$ vs. $\\alpha$')\n",
    "axs[3].set_title(r'$n$ vs. $\\alpha$')"
   ]
  },
  {
   "cell_type": "code",
   "execution_count": null,
   "metadata": {
    "id": "OFeV1ynE0kRb"
   },
   "outputs": [],
   "source": [
    "# PLEASE DO NOT REMOVE\n",
    "# The convergence plot: the best value of the fitness function for each generation\n",
    "plt.plot(range(len(f_best)), f_best)\n",
    "plt.title('The convergence')\n",
    "plt.grid()"
   ]
  },
  {
   "cell_type": "markdown",
   "metadata": {
    "id": "oFX-DzH9ftPg"
   },
   "source": [
    "## 4. Final remarks: Analysis"
   ]
  },
  {
   "cell_type": "markdown",
   "metadata": {
    "id": "2-TFtGdZfz3a"
   },
   "source": [
    "Eventually, please answer the following last questions that will allow you to conclude the assignment.\n",
    "\n",
    "**Question 6 (0-0.5pt)**: After analyzing the results, do you think your algorithm discovered the real values of the parameters? Why? Please indicate which plots indicate that? If not, what is a potential explanation?\n",
    "\n",
    "**Answer**: PLEASE FILL IN"
   ]
  },
  {
   "cell_type": "markdown",
   "metadata": {
    "id": "-uMTEmFI57Ha"
   },
   "source": [
    "**Question 7 (0-0.5pt)**: How the population influences the performance of evolutionary algorithms? What population sizes did you use?\n",
    "\n",
    "**Answer**: PLEASE FILL IN"
   ]
  },
  {
   "cell_type": "markdown",
   "metadata": {
    "id": "qUH82b-ZlV-T"
   },
   "source": [
    "**Question 8 (0-0.5pt)**: What are the advantages of your approach?\n",
    "\n",
    "**Answer**: PLEASE FILL IN"
   ]
  },
  {
   "cell_type": "markdown",
   "metadata": {
    "id": "JLySXiX4lj-K"
   },
   "source": [
    "**Question 9 (0-0.5pt)**: What are the drawbacks of your approach?\n",
    "\n",
    "**Answer**: PLEASE FILL IN"
   ]
  },
  {
   "cell_type": "markdown",
   "metadata": {
    "id": "3HOXbEm6lnHI"
   },
   "source": [
    "**Question 10 (0-0.5pt)**: How could you improve convergence speed of your algorithm? Please provide very specific answer, ideally supported with literature and mathematical formulas.\n",
    "\n",
    "**Answer**: PLEASE FILL IN"
   ]
  },
  {
   "cell_type": "markdown",
   "metadata": {
    "id": "0f2P57ZmlwXz"
   },
   "source": [
    "**Question 11 (0-0.5pt)**: How does an EA compares with the Metropolis-Hastings algorithm? What are the similarities? What are the differences?\n",
    "\n",
    "**Answer**: PLEASE FILL IN"
   ]
  }
 ],
 "metadata": {
  "colab": {
   "collapsed_sections": [],
   "name": "assignment_3.ipynb",
   "provenance": [],
   "toc_visible": true
  },
  "kernelspec": {
   "display_name": "Python 3 (ipykernel)",
   "language": "python",
   "name": "python3"
  },
  "language_info": {
   "codemirror_mode": {
    "name": "ipython",
    "version": 3
   },
   "file_extension": ".py",
   "mimetype": "text/x-python",
   "name": "python",
   "nbconvert_exporter": "python",
   "pygments_lexer": "ipython3",
   "version": "3.10.3"
  }
 },
 "nbformat": 4,
 "nbformat_minor": 4
}
