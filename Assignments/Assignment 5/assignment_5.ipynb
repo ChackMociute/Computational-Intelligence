{
 "cells": [
  {
   "cell_type": "markdown",
   "id": "3ea717da-5328-4996-a7d3-f949d1b74dbd",
   "metadata": {
    "id": "QRBDdr0SEqpT"
   },
   "source": [
    "# Assignment 5"
   ]
  },
  {
   "cell_type": "markdown",
   "id": "9fa18eb1-e4be-412c-9cb3-b97b45da6315",
   "metadata": {
    "id": "8xd57TRzExEr"
   },
   "source": [
    "**Assignment 5: Neuroevolution: Neural Architecture**\n",
    "\n",
    "**Goal**: Get familiar with neural architecture search by applying an evolutionary algorithm to select the best architecture of a neural network."
   ]
  },
  {
   "cell_type": "markdown",
   "id": "459c67bc-d529-4e80-9293-db69f50f911e",
   "metadata": {
    "id": "Jxgc7c--P0GH"
   },
   "source": [
    "## 1. Understanding the problem"
   ]
  },
  {
   "cell_type": "markdown",
   "id": "bf3be99e-8181-4fbe-975d-4925a26f282f",
   "metadata": {
    "id": "oRteDLEPP3eX"
   },
   "source": [
    "In this assignment, we are going to use an evolutionary algorithm for selecting the best architecture of a neural network. As such, this assignment can be seen as a combination of assignment 3 and assignment 4. Similar to assignment 4, the neural network is trained on images.\n",
    "\n",
    "In this task, **the code for a neural network must be implemented in PyTorch.**"
   ]
  },
  {
   "cell_type": "markdown",
   "id": "98330252-669b-4cc9-b79f-f5653286c80e",
   "metadata": {},
   "source": [
    "## 2. Setup"
   ]
  },
  {
   "cell_type": "code",
   "execution_count": 1,
   "id": "2b0c3584-e1fc-4a69-8402-84d9a28efc4b",
   "metadata": {},
   "outputs": [],
   "source": [
    "import numpy as np\n",
    "import torch\n",
    "import torch.nn as nn\n",
    "import scipy.stats as ss\n",
    "import matplotlib.pyplot as plt\n",
    "from torch.utils.data import Dataset, DataLoader\n",
    "from sklearn.datasets import load_digits\n",
    "\n",
    "device = torch.device('cuda') # Use gpu for faster computations"
   ]
  },
  {
   "cell_type": "markdown",
   "id": "7ce10467-652d-4d7d-8b58-ed15ef3865f4",
   "metadata": {},
   "source": [
    "### Dataset class\n",
    "Used to generate different digits dataset objects"
   ]
  },
  {
   "cell_type": "code",
   "execution_count": 2,
   "id": "2d3b8055-3c67-48a4-909d-b8f7119502a0",
   "metadata": {
    "id": "Xm4e0Utl-30c"
   },
   "outputs": [],
   "source": [
    "class Dataset_:\n",
    "    class Digits(Dataset):\n",
    "        def __init__(self, mode, transforms):\n",
    "            self.digits = load_digits()\n",
    "            if mode == 'train':\n",
    "                self.data = self.digits.data[:1000].astype(np.float32)\n",
    "                self.targets = self.digits.target[:1000]\n",
    "            elif mode == 'val':\n",
    "                self.data = self.digits.data[1000:1350].astype(np.float32)\n",
    "                self.targets = self.digits.target[1000:1350]\n",
    "            else:\n",
    "                self.data = self.digits.data[1350:].astype(np.float32)\n",
    "                self.targets = self.digits.target[1350:]\n",
    "                \n",
    "            self.transforms = transforms\n",
    "\n",
    "        def __len__(self):\n",
    "            return len(self.data)\n",
    "\n",
    "        def __getitem__(self, idx):\n",
    "            sample_x = torch.from_numpy(self.data[idx].reshape(-1, 8, 8))\n",
    "            sample_y = torch.tensor(self.targets[idx]).type(torch.LongTensor)\n",
    "            if self.transforms:\n",
    "                sample_x = self.transforms(sample_x)\n",
    "            return sample_x.to(device), sample_y.to(device) # Port everything to chosen device\n",
    "    \n",
    "    def select_mode(self, mode, transforms=None):\n",
    "        return self.Digits(mode, transforms)"
   ]
  },
  {
   "cell_type": "markdown",
   "id": "aea082aa-8f66-429d-b96a-835eebe5eee5",
   "metadata": {},
   "source": [
    "### Phenotype expresser class\n",
    "Used to convert a genotypes into a trainable and testable pytorch neural networks"
   ]
  },
  {
   "cell_type": "code",
   "execution_count": 3,
   "id": "d51a9717-02b6-4339-8825-1d9f1d177553",
   "metadata": {},
   "outputs": [],
   "source": [
    "class PhenotypeExpresser:\n",
    "    class ClassifierNeuralNet(nn.Module):\n",
    "        def __init__(self, classnet):\n",
    "            super(PhenotypeExpresser.ClassifierNeuralNet, self).__init__()\n",
    "            self.classnet = classnet\n",
    "            self.nll = nn.NLLLoss(reduction='none')\n",
    "\n",
    "        def classify(self, x):\n",
    "            # Return the indices with the highest probability which\n",
    "            # are equivalent to the class labels because the labels are digits\n",
    "            return torch.argmax(self.classnet(x), axis=1)\n",
    "\n",
    "        def forward(self, x, y, reduction='avg'):\n",
    "            # Calculate the negative log likelihood loss based on the target values y\n",
    "            # and how the classifier network classifies data x\n",
    "            loss = self.nll(self.classnet(x), y)\n",
    "            if reduction == 'sum':\n",
    "                return loss.sum()\n",
    "            return loss.mean()\n",
    "    \n",
    "    def __init__(self):\n",
    "        # Activations and filters which are encoded in the genotype\n",
    "        self._activations = [nn.ReLU(), nn.Sigmoid(), nn.Tanh(), nn.Softplus(), nn.ELU()]\n",
    "        self._filters = [8, 16, 32]\n",
    "    \n",
    "    def __get_conv_layer(self, filters, structure):\n",
    "        if structure: kernel, padding = 3, 1\n",
    "        else: kernel, padding = 5, 2\n",
    "        stride = 1\n",
    "        return nn.Conv2d(1, self._filters[filters], kernel_size=kernel, padding=padding, stride=stride)\n",
    "    \n",
    "    @staticmethod\n",
    "    def __get_pool_layer(kernel, avg_pool):\n",
    "        kernel += 1\n",
    "        return nn.AvgPool2d(kernel) if avg_pool else nn.MaxPool2d(kernel)\n",
    "    \n",
    "    def __get_input_size(self, filters, structure, kernel_pool):\n",
    "        if structure: kernel, padding = 3, 1\n",
    "        else: kernel, padding = 5, 2\n",
    "        kernel_pool += 1\n",
    "        return int(self._filters[filters]*((8-kernel+2*padding+1)/kernel_pool)**2)\n",
    "    \n",
    "    # Decode the genotype and return an object of a subclass of nn.Module\n",
    "    def get_phenotype(self, genotype):\n",
    "        classnet = nn.Sequential(\n",
    "            self.__get_conv_layer(*genotype[:2]),\n",
    "            self._activations[genotype[2]],\n",
    "            self.__get_pool_layer(*genotype[3:5]),\n",
    "            nn.Flatten(),\n",
    "            nn.Linear(self.__get_input_size(*genotype[np.asarray([0,1,3])]), genotype[5]*10),\n",
    "            self._activations[genotype[2]],\n",
    "            nn.Linear(genotype[5]*10, 10),\n",
    "            nn.LogSoftmax(dim=1)).to(device)\n",
    "        return self.ClassifierNeuralNet(classnet)\n",
    "    \n",
    "    def get_phenotypes(self, genotypes):\n",
    "        phenotypes = []\n",
    "        for genotype in genotypes:\n",
    "            phenotype = self.get_phenotype(genotype)\n",
    "            phenotypes.append(phenotype)\n",
    "        return np.asarray(phenotypes)\n",
    "            "
   ]
  },
  {
   "cell_type": "markdown",
   "id": "23ed2da4-9d48-477a-a4bb-0561862ea5ca",
   "metadata": {},
   "source": [
    "### Evaluator class\n",
    "Used to provide the objective function to the evolutionary algorithm"
   ]
  },
  {
   "cell_type": "code",
   "execution_count": 4,
   "id": "b325fdec-0386-46ef-a5c7-661c37b4d6f6",
   "metadata": {},
   "outputs": [],
   "source": [
    "class Evaluator:\n",
    "    def __init__(self, epochs=50, lr=1e-3, wd=1e-4):\n",
    "        self.PE = PhenotypeExpresser()\n",
    "        dataset = Dataset_()\n",
    "        [train, val, test] = [dataset.select_mode(mode) for mode in ['train', 'val', 'test']]\n",
    "        # Create a laoder for every type of data\n",
    "        self.training_loader = DataLoader(train, batch_size=64, shuffle=True)\n",
    "        self.val_loader = DataLoader(val, batch_size=64, shuffle=False)\n",
    "        self.test_loader = DataLoader(test, batch_size=64, shuffle=False)\n",
    "        # Hyperparameters used in neural network training\n",
    "        self.epochs = epochs\n",
    "        self.lr = lr\n",
    "        self.wd = wd\n",
    "    \n",
    "    # Get the test/validation loss and classification error\n",
    "    def test(self, model, test_loader):\n",
    "        model.eval()\n",
    "        loss_test = 0.\n",
    "        loss_error = 0.\n",
    "        N = 0.\n",
    "        \n",
    "        # start evaluation\n",
    "        for indx_batch, (test_batch, test_targets) in enumerate(test_loader):\n",
    "            # Classification loss\n",
    "            loss_test_batch = model.forward(test_batch, test_targets, reduction='sum')\n",
    "            loss_test = loss_test + loss_test_batch.item()\n",
    "            \n",
    "            # classification error\n",
    "            y_pred = model.classify(test_batch)\n",
    "            e = 1.*(y_pred == test_targets)\n",
    "            loss_error = loss_error + (1. - e).sum().item()\n",
    "            \n",
    "            # the number of examples\n",
    "            N = N + test_batch.shape[0]\n",
    "        \n",
    "        # Calculate average loss and error rate\n",
    "        loss_test = loss_test / N\n",
    "        loss_error = loss_error / N\n",
    "\n",
    "        return loss_test, loss_error\n",
    "    \n",
    "    # Train a pytorch model\n",
    "    def train(self, model, optimizer):\n",
    "        model.train()\n",
    "        # Main training loop\n",
    "        for e in range(self.epochs):\n",
    "            for indx_batch, (batch, targets) in enumerate(self.training_loader):\n",
    "                loss = model.forward(batch, targets)\n",
    "                optimizer.zero_grad()\n",
    "                loss.backward(retain_graph=True)\n",
    "                optimizer.step()\n",
    "        return model\n",
    "    \n",
    "    def evaluate(self, x, validation_num=5, test=False):\n",
    "        f = np.zeros(x.shape[0])\n",
    "        # Run multiple times to improve consistency of evaluation\n",
    "        for _ in range(validation_num):\n",
    "            # Create the neural network models\n",
    "            models = self.PE.get_phenotypes(x.reshape(-1, 6))\n",
    "            # For each model, train it and evaluate it\n",
    "            for i, model in enumerate(models):\n",
    "                optimizer = torch.optim.Adam([p for p in model.parameters() if p.requires_grad],\n",
    "                                             lr=self.lr, weight_decay=self.wd) \n",
    "                model = self.train(model, optimizer)\n",
    "                _, error = self.test(model, self.val_loader if not test else self.test_loader)\n",
    "                # Add all evaluations from the same model together\n",
    "                f[i] += error\n",
    "        # Return average classification errors\n",
    "        return f/validation_num\n",
    "\n"
   ]
  },
  {
   "cell_type": "markdown",
   "id": "796a082d-b16d-444a-9c10-520d23752e98",
   "metadata": {},
   "source": [
    "### Evolutionary algorithm class\n",
    "Uses crossover and mutation to create new individuals from old ones and steadily improves the population with new best fitting individuals"
   ]
  },
  {
   "cell_type": "code",
   "execution_count": 5,
   "id": "ee0f56da-d425-4fa3-88d8-1283fa724a8f",
   "metadata": {},
   "outputs": [],
   "source": [
    "class EA:\n",
    "    def __init__(self, evaluator, pop_size, bounds_min, bounds_max, std=1, parents=None):\n",
    "        self.evaluator = evaluator\n",
    "        self.pop_size = pop_size\n",
    "        self.parents = parents if parents is not None else pop_size\n",
    "        self.std = std\n",
    "        self.bounds_min = bounds_min\n",
    "        self.bounds_max = bounds_max\n",
    "    \n",
    "    # Select and return a random number of parents equal to parents hyperparameter\n",
    "    def parent_selection(self, x_old, f_old):\n",
    "        ind = np.random.choice(self.pop_size, self.parents, replace=False)\n",
    "        return x_old[ind], f_old[ind]\n",
    "    \n",
    "    # Combine random part of parent i with the remaining part of random parent j to create child i\n",
    "    def recombination(self, x_parents, f_parents):\n",
    "        x_children = []\n",
    "        for i in range(self.pop_size):\n",
    "            j = np.random.randint(x_parents.shape[0])\n",
    "            cutoff = np.random.randint(x_parents.shape[1])\n",
    "            x_children.append(np.concatenate([x_parents[i%self.parents][:cutoff], x_parents[j][cutoff:]]))\n",
    "        return np.asarray(x_children)\n",
    "    \n",
    "    # Mutate the different types of 'genes' with corresponding methods\n",
    "    def mutation(self, x_children):\n",
    "        binary_mutation = np.random.binomial(1, 0.2, (x_children.shape[0], 3))\n",
    "        integer_mutation = np.random.binomial(1, 0.2, (x_children.shape[0], 2)) \\\n",
    "                           * np.round(np.random.normal(0, self.std, size=(x_children.shape[0], 2)))\n",
    "        categorical_mutation = np.random.randint(5, size=x_children.shape[0])\n",
    "        \n",
    "        x_children[:,np.array([1, 3, 4])] = (x_children[:,np.array([1, 3, 4])] + binary_mutation)%2 # Flipping bits\n",
    "        x_children[:,np.array([0, 5])] = x_children[:,np.array([0, 5])] + integer_mutation # Creep mutation\n",
    "        x_children[:,2] = categorical_mutation # Mutation for activation function\n",
    "\n",
    "        return np.clip(x_children, self.bounds_min, self.bounds_max)\n",
    "    \n",
    "    # Elitist survival selection\n",
    "    def survivor_selection(self, x_old, x_children, f_old, f_children):\n",
    "        x = np.concatenate([x_old, x_children])\n",
    "        f = np.concatenate([f_old, f_children])\n",
    "        \n",
    "        ind = np.argsort(f)\n",
    "        x = x[ind]\n",
    "        f = f[ind]\n",
    "        \n",
    "        return x[:self.pop_size], f[:self.pop_size]\n",
    "\n",
    "    def evaluate(self, x):\n",
    "        return self.evaluator.evaluate(x)\n",
    "  \n",
    "    def step(self, x_old, f_old):\n",
    "        x_parents, f_parents = self.parent_selection(x_old, f_old)\n",
    "        x_children = self.recombination(x_parents, f_parents)\n",
    "        x_children = self.mutation(x_children)\n",
    "        f_children = self.evaluate(x_children)\n",
    "        x, f = self.survivor_selection(x_old, x_children, f_old, f_children)\n",
    "                       \n",
    "        return x, f"
   ]
  },
  {
   "cell_type": "markdown",
   "id": "9ea4cda6-68a2-4cac-88c1-f592fb83cf1d",
   "metadata": {},
   "source": [
    "## 3. Running the algorithm"
   ]
  },
  {
   "cell_type": "code",
   "execution_count": 6,
   "id": "c94ab1f8-e3e1-42b5-b5d6-c2ff07c0855e",
   "metadata": {},
   "outputs": [
    {
     "name": "stdout",
     "output_type": "stream",
     "text": [
      "Generation: 0, best fitness: 0.033\n",
      "Generation: 2, best fitness: 0.029\n",
      "Generation: 4, best fitness: 0.029\n",
      "Generation: 6, best fitness: 0.026\n",
      "Generation: 8, best fitness: 0.025\n",
      "Generation: 10, best fitness: 0.025\n",
      "Generation: 12, best fitness: 0.025\n",
      "Generation: 14, best fitness: 0.025\n",
      "Generation: 16, best fitness: 0.023\n",
      "Generation: 18, best fitness: 0.023\n",
      "FINISHED!\n",
      "Final best fitness: 0.0931\n"
     ]
    }
   ],
   "source": [
    "# --------------HYPERPARAMETERS--------------\n",
    "num_generations = 20\n",
    "pop_size = 20\n",
    "bounds_min = np.asarray([0, 0, 0, 0, 0, 1])\n",
    "bounds_max = np.asarray([2, 1, 4, 1, 1, 10])\n",
    "\n",
    "# --------------EA OBJECT--------------\n",
    "e = Evaluator(epochs=5)\n",
    "ea = EA(e, pop_size, bounds_min, bounds_max)\n",
    "\n",
    "# --------------INITIAL POPULATION--------------\n",
    "x = np.random.randint(low=bounds_min, high=bounds_max+1, size=(pop_size, 6))\n",
    "f = e.evaluate(x)\n",
    "\n",
    "populations = []\n",
    "populations.append(x)\n",
    "f_best = [f.min()]\n",
    "\n",
    "# --------------OPTIMIZATION--------------\n",
    "for i in range(num_generations):\n",
    "    if i % int(num_generations * 0.1) == 0:\n",
    "        print('Generation: {}, best fitness: {:.3f}'.format(i, f.min()))\n",
    "    x, f = ea.step(x, f)\n",
    "    populations.append(x)\n",
    "    if f.min() < f_best[-1]:\n",
    "        f_best.append(f.min())\n",
    "    else:\n",
    "        f_best.append(f_best[-1])\n",
    "print('FINISHED!')\n",
    "\n",
    "# --------------FINAL EVALUATION--------------\n",
    "test_ce = e.evaluate(x[f.argmin()], test=True)[0]\n",
    "print(f'Final best fitness: {test_ce:.3}')"
   ]
  },
  {
   "cell_type": "markdown",
   "id": "c188c361-66d6-47fb-b8b7-9a77c54ca420",
   "metadata": {},
   "source": [
    "## 4. Analysis"
   ]
  },
  {
   "cell_type": "markdown",
   "id": "4bd46d66-9d98-4804-b72a-17bf88a91b26",
   "metadata": {},
   "source": [
    "### Attribute scatter plots"
   ]
  },
  {
   "cell_type": "code",
   "execution_count": 7,
   "id": "642f301f-f5f7-4396-b5e7-310f3d36e633",
   "metadata": {
    "id": "VtPr6K8e0kPj"
   },
   "outputs": [
    {
     "data": {
      "image/png": "[encoded data removed]",
      "text/plain": [
       "<Figure size 864x648 with 4 Axes>"
      ]
     },
     "metadata": {
      "needs_background": "light"
     },
     "output_type": "display_data"
    }
   ],
   "source": [
    "gens = [0, num_generations//4, num_generations//2, num_generations]\n",
    "fig_ea_pops, axs = plt.subplots(2, 2, figsize=(12, 9))\n",
    "fig_ea_pops.tight_layout()\n",
    "\n",
    "for i in range(len(gens)):\n",
    "    pop_i = populations[gens[i]] + np.random.randn(*populations[gens[i]].shape)/50\n",
    "    axs[0,0].scatter(pop_i[:,0], pop_i[:,-1], label=str(gens[i]))\n",
    "    axs[0,1].scatter(pop_i[:,0], pop_i[:,2], label=str(gens[i]))\n",
    "    axs[1,0].scatter(pop_i[:,1], pop_i[:,0], label=str(gens[i]))\n",
    "    axs[1,1].scatter(pop_i[:,3], pop_i[:,4], label=str(gens[i]))\n",
    "axs[0,0].legend(title='Generation'), axs[0,1].legend(title='Generation'), axs[1,0].legend(title='Generation'), axs[1,1].legend(title='Generation')\n",
    "axs[0,0].set_title('Filters vs. neurons')\n",
    "axs[0,1].set_title('Filters vs. Activation')\n",
    "axs[1,0].set_title('Conv structure vs. filters')\n",
    "axs[1,1].set_title('Pool type vs. pool kernel')\n",
    "\n",
    "plt.show()"
   ]
  },
  {
   "cell_type": "markdown",
   "id": "7a24cd4f-1b24-4049-8c4f-6a50969fd4fb",
   "metadata": {},
   "source": [
    "### Convergence"
   ]
  },
  {
   "cell_type": "code",
   "execution_count": 8,
   "id": "85898afa-fe0a-4b69-bbcc-70792322c8d0",
   "metadata": {
    "id": "OFeV1ynE0kRb"
   },
   "outputs": [
    {
     "data": {
      "image/png": "[encoded data removed]",
      "text/plain": [
       "<Figure size 432x288 with 1 Axes>"
      ]
     },
     "metadata": {
      "needs_background": "light"
     },
     "output_type": "display_data"
    }
   ],
   "source": [
    "plt.plot(range(len(f_best)), f_best)\n",
    "plt.title('The convergence')\n",
    "plt.grid()"
   ]
  },
  {
   "cell_type": "markdown",
   "id": "b0ece22b-124a-4264-bc75-59e12f886825",
   "metadata": {},
   "source": [
    "### Best neural network"
   ]
  },
  {
   "cell_type": "code",
   "execution_count": 9,
   "id": "bb088ea1-1d52-4cf2-b855-c78304e9d660",
   "metadata": {},
   "outputs": [],
   "source": [
    "model = e.PE.get_phenotype(x[f.argmin()])\n",
    "optimizer = torch.optim.Adam([p for p in model.parameters() if p.requires_grad], lr=e.lr, weight_decay=e.wd) \n",
    "val_loss, val_error = [], []\n",
    "\n",
    "model.train()\n",
    "for _ in range(50):\n",
    "    for indx_batch, (batch, targets) in enumerate(e.training_loader):\n",
    "        loss = model.forward(batch, targets)\n",
    "        optimizer.zero_grad()\n",
    "        loss.backward(retain_graph=True)\n",
    "        optimizer.step()\n",
    "    loss, error = e.test(model, e.val_loader)\n",
    "    val_loss.append(loss)\n",
    "    val_error.append(error)\n",
    "loss, error = e.test(model, e.test_loader)"
   ]
  },
  {
   "cell_type": "code",
   "execution_count": 10,
   "id": "1af4dc0b-49fe-4413-8915-82823cd7098c",
   "metadata": {},
   "outputs": [
    {
     "data": {
      "image/png": "[encoded data removed]",
      "text/plain": [
       "<Figure size 1152x360 with 2 Axes>"
      ]
     },
     "metadata": {
      "needs_background": "light"
     },
     "output_type": "display_data"
    }
   ],
   "source": [
    "_, axs = plt.subplots(1, 2, figsize=(16, 5))\n",
    "axs[0].plot(range(len(val_loss)), val_loss, color='blue', linewidth='3', label='Validation loss')\n",
    "axs[1].plot(range(len(val_error)), val_error, color='red', linewidth='3', label='Validation error')\n",
    "\n",
    "axs[0].hlines(loss, xmin=0, xmax=len(val_loss), linestyles='dashed', label='Test loss')\n",
    "axs[0].text(len(val_loss), loss, f\"{loss:.3}\")\n",
    "axs[1].hlines(error, xmin=0, xmax=len(val_loss), linestyles='dashed', label='Test error')\n",
    "axs[1].text(len(val_loss), error, f\"{error:.3}\")\n",
    "\n",
    "axs[0].set_xlabel('Epoch'), axs[0].set_ylabel('Loss')\n",
    "axs[1].set_xlabel('Epoch'), axs[1].set_ylabel('Classification error')\n",
    "axs[0].legend()\n",
    "axs[1].legend()\n",
    "\n",
    "plt.show()"
   ]
  }
 ],
 "metadata": {
  "kernelspec": {
   "display_name": "Python 3 (ipykernel)",
   "language": "python",
   "name": "python3"
  },
  "language_info": {
   "codemirror_mode": {
    "name": "ipython",
    "version": 3
   },
   "file_extension": ".py",
   "mimetype": "text/x-python",
   "name": "python",
   "nbconvert_exporter": "python",
   "pygments_lexer": "ipython3",
   "version": "3.10.2"
  }
 },
 "nbformat": 4,
 "nbformat_minor": 5
}
