{
 "cells": [
  {
   "cell_type": "markdown",
   "metadata": {
    "id": "QRBDdr0SEqpT"
   },
   "source": [
    "# Assignment 4"
   ]
  },
  {
   "cell_type": "markdown",
   "metadata": {
    "id": "8xd57TRzExEr"
   },
   "source": [
    "**Assignment 4: Neural Networks**\n",
    "\n",
    "**Goal**: ​Get familiar with neural networks by implementing them and applying them to image classification."
   ]
  },
  {
   "cell_type": "markdown",
   "metadata": {
    "id": "yHNgWB1iFDu5"
   },
   "source": [
    "In this assignment we are going to learn about neural networks (NNs). The goal is to implement two neural networks: a fully-connected neural network, a convolutional neural network, and analyze their behavior.\n",
    "\n",
    "The considered task is image classification. We consider a dataset of small natural images (see the additional file) with multiple classes. We aim at formulating a model (a neural network) and learning it using the negative log-likelihood function (i.e., the cross-entropy loss) as the objective function, and the stochastic gradient descent as the optimizer.\n",
    "\n",
    "In this assignment, ​**the code must be implemented in PyTorch**."
   ]
  },
  {
   "cell_type": "markdown",
   "metadata": {
    "id": "Jxgc7c--P0GH"
   },
   "source": [
    "## 1 Understanding the problem\n",
    "\n"
   ]
  },
  {
   "cell_type": "markdown",
   "metadata": {
    "id": "oRteDLEPP3eX"
   },
   "source": [
    "The considered problem is about classifying images to $L$ classes. In the first part of the assignment, you are asked get familiar with PyTorch, a deep learning library, and the basics of neural networks, and implement neural-network-based classifiers. For this purpose, we will start with classifying small images (8px x 8px) of handwritten digits to one of 10 classes. The dataset is very small and all experiments could be achieved within a couple of minutes.\n",
    "\n",
    "In the second part, you are asked to implement the whole pipeline for a given dataset by yourself.\n",
    "\n",
    "Please run the code below and spend a while on analyzing the images.\n",
    "\n",
    "If any code line is unclear to you, please read on that in numpy, scipy, matplotlib and PyTorch docs."
   ]
  },
  {
   "cell_type": "code",
   "execution_count": 1,
   "metadata": {
    "id": "g4wCnPRz-MaE"
   },
   "outputs": [],
   "source": [
    "import os\n",
    "\n",
    "import numpy as np\n",
    "import matplotlib.pyplot as plt\n",
    "import torch\n",
    "import scipy\n",
    "from sklearn.datasets import load_digits\n",
    "from sklearn import datasets\n",
    "from torch.utils.data import Dataset, DataLoader\n",
    "import torch.nn as nn\n",
    "import torch.nn.functional as F\n",
    "\n",
    "EPS = 1.e-7"
   ]
  },
  {
   "cell_type": "code",
   "execution_count": 2,
   "metadata": {
    "id": "Xm4e0Utl-30c"
   },
   "outputs": [],
   "source": [
    "# PLEASE DO NOT REMOVE!\n",
    "# This is a class for the dataset of small (8px x 8px) digits.\n",
    "# Please try to understand in details how it works!\n",
    "class Digits(Dataset):\n",
    "    \"\"\"Scikit-Learn Digits dataset.\"\"\"\n",
    "\n",
    "    def __init__(self, mode='train', transforms=None):\n",
    "        digits = load_digits()\n",
    "        if mode == 'train':\n",
    "            self.data = digits.data[:1000].astype(np.float32)\n",
    "            self.targets = digits.target[:1000]\n",
    "        elif mode == 'val':\n",
    "            self.data = digits.data[1000:1350].astype(np.float32)\n",
    "            self.targets = digits.target[1000:1350]\n",
    "        else:\n",
    "            self.data = digits.data[1350:].astype(np.float32)\n",
    "            self.targets = digits.target[1350:]\n",
    "\n",
    "        self.transforms = transforms\n",
    "\n",
    "    def __len__(self):\n",
    "        return len(self.data)\n",
    "\n",
    "    def __getitem__(self, idx):\n",
    "        sample_x = self.data[idx]\n",
    "        sample_y = self.targets[idx]\n",
    "        if self.transforms:\n",
    "            sample_x = self.transforms(sample_x)\n",
    "        return (sample_x, sample_y)"
   ]
  },
  {
   "cell_type": "code",
   "execution_count": 3,
   "metadata": {
    "id": "bnDz_yGeuOnh"
   },
   "outputs": [
    {
     "data": {
      "image/png": "[encoded data removed]",
      "text/plain": [
       "<Figure size 288x288 with 16 Axes>"
      ]
     },
     "metadata": {
      "needs_background": "light"
     },
     "output_type": "display_data"
    }
   ],
   "source": [
    "# PLEASE DO NOT REMOVE\n",
    "# Here, we plot some images (8px x 8px).\n",
    "digits = load_digits()\n",
    "x = digits.data[:16].astype(np.float32)\n",
    "\n",
    "fig_data, axs = plt.subplots(4,4,figsize=(4, 4))\n",
    "fig_data.tight_layout()\n",
    "\n",
    "for i in range(4):\n",
    "    for j in range(4):\n",
    "        img = np.reshape(x[4*i+j],(8,8))\n",
    "        axs[i,j].imshow(img, cmap='gray')\n",
    "        axs[i,j].axis('off')"
   ]
  },
  {
   "cell_type": "markdown",
   "metadata": {
    "id": "wgc_GFOyRBEi"
   },
   "source": [
    "## 2 Neural Networks for Digits (4pt)"
   ]
  },
  {
   "cell_type": "markdown",
   "metadata": {
    "id": "gDVf1vyORGUB"
   },
   "source": [
    "In this assignment, you are asked to implement a neural network (NN) classifier. Please take a look at the class below and fill in the missing parts.\n",
    "\n",
    "NOTE: Please pay attention to the inputs and outputs of each function."
   ]
  },
  {
   "cell_type": "markdown",
   "metadata": {
    "id": "iwuEfxSKpFtD"
   },
   "source": [
    "### 2.1 Neural Network Classifier"
   ]
  },
  {
   "cell_type": "markdown",
   "metadata": {
    "id": "9FThxxdkpKcQ"
   },
   "source": [
    "Below, we have two helper modules (layers) that can be used to reshape and flatten a tensor. They are useful for creating sequentials with convolutional layers."
   ]
  },
  {
   "cell_type": "code",
   "execution_count": 4,
   "metadata": {
    "id": "5AB5Ch63Ak01"
   },
   "outputs": [],
   "source": [
    "# PLEASE DO NOT REMOVE!\n",
    "# Here are two auxiliary functions that can be used for a convolutional NN (CNN).\n",
    "\n",
    "# This module reshapes an input (matrix -> tensor).\n",
    "class Reshape(nn.Module):\n",
    "    def __init__(self, size):\n",
    "        super(Reshape, self).__init__()\n",
    "        self.size = size # a list\n",
    "  \n",
    "    def forward(self, x):\n",
    "        assert x.shape[1] == np.prod(self.size)\n",
    "        return x.view(x.shape[0], *self.size)\n",
    "\n",
    "# This module flattens an input (tensor -> matrix) by blending dimensions \n",
    "# beyond the batch size.\n",
    "class Flatten(nn.Module):\n",
    "    def __init__(self):\n",
    "        super(Flatten, self).__init__()\n",
    "  \n",
    "    def forward(self, x):\n",
    "        return x.view(x.shape[0], -1)"
   ]
  },
  {
   "cell_type": "markdown",
   "metadata": {
    "id": "x3i9R3NmpUY3"
   },
   "source": [
    "Below is the main class for a classifier parameterized by a neural network."
   ]
  },
  {
   "cell_type": "code",
   "execution_count": 5,
   "metadata": {
    "id": "Vtv_pAkmOrS3"
   },
   "outputs": [],
   "source": [
    "#=========\n",
    "# GRADING:\n",
    "# 0 \n",
    "# 0.5 pt if code works but it is explained badly\n",
    "# 1.0 pt if code works and it is explained well\n",
    "#=========\n",
    "# Implement a neural network (NN) classifier. \n",
    "class ClassifierNeuralNet(nn.Module):\n",
    "    def __init__(self, classnet):\n",
    "        super(ClassifierNeuralNet, self).__init__()\n",
    "        # We provide a sequential module with layers and activations\n",
    "        self.classnet = classnet\n",
    "        # The loss function (the negative log-likelihood)\n",
    "        self.nll = nn.NLLLoss(reduction='none') #it requires log-softmax as input!!\n",
    "\n",
    "    # This function classifies an image x to a class.\n",
    "    # The output must be a class label (long).\n",
    "    def classify(self, x):\n",
    "        # Return the indices with the highest probability which\n",
    "        # are equivalent to the class labels because the labels are digits\n",
    "        return torch.argmax(self.classnet(x), axis=1)\n",
    "\n",
    "    # This function is crucial for a module in PyTorch.\n",
    "    # In our framework, this class outputs a value of the loss function.\n",
    "    def forward(self, x, y, reduction='avg'):\n",
    "        # Calculate the negative log likelihood loss based on the target values y\n",
    "        # and how the classifier network classifies data x\n",
    "        loss = self.nll(self.classnet(x), y.type(torch.LongTensor))\n",
    "        \n",
    "        if reduction == 'sum':\n",
    "            return loss.sum()\n",
    "        return loss.mean()"
   ]
  },
  {
   "cell_type": "markdown",
   "metadata": {
    "id": "bwaou1x-gmx3"
   },
   "source": [
    "**Question 1 (0-0.5pt):** What is the objective function for a classification task? In other words, what is nn.NLLLoss in the code above? Pelase write it in mathematical terms.\n",
    "\n",
    "**Answer:** <em>The objective is to minimize the negative log likelihood loss. The nn.NLLLoss is the function being minimized. The Negative log likelihood function looks like $-\\log\\textbf{y}$ where $\\textbf{y}$ is the probability assigned to the correct label by the classifier. If the value of $\\textbf{y}$ is close to $1$, then $-\\log\\textbf{y}$ will be a small positive number but if the value of $\\textbf{y}$ is close to 0, then the value $-\\log\\textbf{y}$ will be very large because it approaches $\\infty$ as $\\textbf{y}$ approaches $0$. Thus the further away from the correct classification, the greater the loss and the steeper the gradient. The reduction of the negative log likelihood loss comes into play when dealing with batches. It tells the function what to do with the multiple loss values corresponding to each instance in the batch. If reduction is average, then the loss is the mean of every loss value. Similarly if reduction is summation, then the loss values get added together.</em>\n",
    "\n",
    "<em>Technically, the nn.NLLLoss is not the $-\\log\\textbf{y}$ function itself as the $\\log$ of softmax is already taken by the neural network so it really only takes the negative and selects which $\\log$ probability to use based on the target value but that is semantically equivalent to the above.</em>"
   ]
  },
  {
   "cell_type": "markdown",
   "metadata": {
    "id": "kvX88kN-irAD"
   },
   "source": [
    "**Question 2 (0-0.5pt):** In the code above, it is said to use the logarithm of the softmax as the final activation function. Is it correct to use the log-softmax instead of the softmax for making predictions (i.e., picking the most probable label).\n",
    "\n",
    "**Answer:** <em>Yes, it is fine because the logarithm does not change the most probable label, it changes only the probability to the log-probability.</em>"
   ]
  },
  {
   "cell_type": "markdown",
   "metadata": {
    "id": "HVqRQduw3mgm"
   },
   "source": [
    "### 2.2 Evaluation"
   ]
  },
  {
   "cell_type": "code",
   "execution_count": 6,
   "metadata": {
    "id": "4g9uUFgYP1kT"
   },
   "outputs": [],
   "source": [
    "# PLEASE DO NOT REMOVE\n",
    "def evaluation(test_loader, name=None, model_best=None, epoch=None, print_freq=10):\n",
    "    # If available, load the best performing model\n",
    "    if model_best is None:\n",
    "        model_best = torch.load(name + '.model')\n",
    "  \n",
    "    model_best.eval()# set the model to the evaluation mode\n",
    "    loss_test = 0.\n",
    "    loss_error = 0.\n",
    "    N = 0.\n",
    "    # start evaluation\n",
    "    for indx_batch, (test_batch, test_targets) in enumerate(test_loader):\n",
    "        # loss (nll)\n",
    "        loss_test_batch = model_best.forward(test_batch, test_targets, reduction='sum')\n",
    "        loss_test = loss_test + loss_test_batch.item()\n",
    "        # classification error\n",
    "        y_pred = model_best.classify(test_batch)\n",
    "        e = 1.*(y_pred == test_targets)\n",
    "        loss_error = loss_error + (1. - e).sum().item()\n",
    "        # the number of examples\n",
    "        N = N + test_batch.shape[0]\n",
    "    # divide by the number of examples\n",
    "    loss_test = loss_test / N\n",
    "    loss_error = loss_error / N\n",
    "\n",
    "    # Print the performance\n",
    "    if epoch is None:\n",
    "        print(f'-> FINAL PERFORMANCE: nll={loss_test}, ce={loss_error}')\n",
    "    else:\n",
    "        if epoch % print_freq == 0:\n",
    "            print(f'Epoch: {epoch}, val nll={loss_test}, val ce={loss_error}')\n",
    "\n",
    "    return loss_test, loss_error\n",
    "\n",
    "# An auxiliary function for plotting the performance curves\n",
    "def plot_curve(name, signal, file_name='curve.pdf', xlabel='epochs', ylabel='nll', color='b-', test_eval=None):\n",
    "    # plot the curve\n",
    "    plt.plot(np.arange(len(signal)), signal, color, linewidth='3', label=ylabel +' val')\n",
    "    # if available, add the final (test) performance\n",
    "    if test_eval is not None:\n",
    "        plt.hlines(test_eval, xmin=0, xmax=len(signal), linestyles='dashed', label=ylabel +' test')\n",
    "        plt.text(len(signal), test_eval, \"{:.3f}\".format(test_eval),)\n",
    "    # set x- and ylabels, add legend, save the figure\n",
    "    plt.xlabel(xlabel), plt.ylabel(ylabel)\n",
    "    plt.legend()\n",
    "    plt.savefig(name + file_name, bbox_inches='tight')\n",
    "    plt.show()"
   ]
  },
  {
   "cell_type": "markdown",
   "metadata": {
    "id": "YzRd-TiY3puF"
   },
   "source": [
    "### 2.3 Training procedure"
   ]
  },
  {
   "cell_type": "code",
   "execution_count": 7,
   "metadata": {
    "id": "CMhQWbM1QcBM"
   },
   "outputs": [],
   "source": [
    "# PLEASE DO NOT REMOVE!\n",
    "# The training procedure\n",
    "def training(name, max_patience, num_epochs, model, optimizer, training_loader, val_loader, print_freq=10):\n",
    "    nll_val = []\n",
    "    error_val = []\n",
    "    best_nll = 1000.\n",
    "    patience = 0\n",
    "    \n",
    "    # Evaluate model before training to show improvement\n",
    "    loss_e, error_e = evaluation(val_loader, model_best=model, epoch=0, print_freq=print_freq)\n",
    "    nll_val.append(loss_e)  # save for plotting\n",
    "    error_val.append(error_e)  # save for plotting\n",
    "    \n",
    "    # Main training loop\n",
    "    for e in range(num_epochs):\n",
    "        model.train() # set the model to the training mode\n",
    "        # load batches\n",
    "        for indx_batch, (batch, targets) in enumerate(training_loader):\n",
    "            # calculate the forward pass (loss function for given images and labels)\n",
    "            loss = model.forward(batch, targets)\n",
    "            # remember we need to zero gradients! Just in case!\n",
    "            optimizer.zero_grad()\n",
    "            # calculate backward pass\n",
    "            loss.backward(retain_graph=True)\n",
    "            # run the optimizer\n",
    "            optimizer.step()\n",
    "\n",
    "        # Validation: Evaluate the model on the validation data\n",
    "        loss_e, error_e = evaluation(val_loader, model_best=model, epoch=e+1, print_freq=print_freq)\n",
    "        nll_val.append(loss_e)  # save for plotting\n",
    "        error_val.append(error_e)  # save for plotting\n",
    "\n",
    "        # Early-stopping: update the best performing model and break training if no \n",
    "        # progress is observed.\n",
    "        if e == 0:\n",
    "            torch.save(model, name + '.model')\n",
    "            best_nll = loss_e\n",
    "        else:\n",
    "            if loss_e < best_nll:\n",
    "                torch.save(model, name + '.model')\n",
    "                best_nll = loss_e\n",
    "                patience = 0\n",
    "            else:\n",
    "                patience = patience + 1\n",
    "\n",
    "        if patience > max_patience:\n",
    "            break\n",
    "\n",
    "    # Return nll and classification error.\n",
    "    nll_val = np.asarray(nll_val)\n",
    "    error_val = np.asarray(error_val)\n",
    "\n",
    "    return nll_val, error_val"
   ]
  },
  {
   "cell_type": "markdown",
   "metadata": {
    "id": "gHYGz3G87nuk"
   },
   "source": [
    "### 2.4 Experiments"
   ]
  },
  {
   "cell_type": "markdown",
   "metadata": {
    "id": "op-YbN-JREqw"
   },
   "source": [
    "#### Initialize dataloaders"
   ]
  },
  {
   "cell_type": "code",
   "execution_count": 8,
   "metadata": {
    "id": "R_cRaP3gRET1"
   },
   "outputs": [],
   "source": [
    "# PLEASE DO NOT REMOVE\n",
    "# Initialize training, validation and test sets.\n",
    "train_data = Digits(mode='train')\n",
    "val_data = Digits(mode='val')\n",
    "test_data = Digits(mode='test')\n",
    "\n",
    "# Initialize data loaders.\n",
    "training_loader = DataLoader(train_data, batch_size=64, shuffle=True)\n",
    "val_loader = DataLoader(val_data, batch_size=64, shuffle=False)\n",
    "test_loader = DataLoader(test_data, batch_size=64, shuffle=False)"
   ]
  },
  {
   "cell_type": "code",
   "execution_count": 9,
   "metadata": {
    "id": "2Lqwm5c3oRia"
   },
   "outputs": [
    {
     "name": "stdout",
     "output_type": "stream",
     "text": [
      "How do we get our data from Digits class? \n",
      "\n",
      "Feature example:\n",
      "[ 0.  0.  0. 12. 13.  5.  0.  0.  0.  0.  0. 11. 16.  9.  0.  0.  0.  0.\n",
      "  3. 15. 16.  6.  0.  0.  0.  7. 15. 16. 16.  2.  0.  0.  0.  0.  1. 16.\n",
      " 16.  3.  0.  0.  0.  0.  1. 16. 16.  6.  0.  0.  0.  0.  1. 16. 16.  6.\n",
      "  0.  0.  0.  0.  0. 11. 16. 10.  0.  0.]\n",
      "Feature example shape: (64,)\n",
      "Label example: 1\n"
     ]
    }
   ],
   "source": [
    "print(\"How do we get our data from Digits class? \\n\")\n",
    "print(f\"Feature example:\\n{train_data[1][0]}\")\n",
    "print(f\"Feature example shape: {train_data[1][0].shape}\")\n",
    "print(f\"Label example: {train_data[1][1]}\")"
   ]
  },
  {
   "cell_type": "code",
   "execution_count": 10,
   "metadata": {
    "id": "F5OuaSTOhocZ"
   },
   "outputs": [
    {
     "name": "stdout",
     "output_type": "stream",
     "text": [
      "How do we get our data from Pytorch DataLoader class? \n",
      "\n",
      "Feature batch shape: torch.Size([64, 64])\n",
      "Labels batch shape: torch.Size([64])\n",
      "\n",
      "\n",
      "What happens if we reshape a feature batch? \n",
      "\n",
      "Feature batch shape after reshape: torch.Size([64, 1, 8, 8])\n",
      "\n",
      "\n",
      "What happens if we flatten a reshaped feature batch? \n",
      "\n",
      "Feature batch shape after flatten: torch.Size([64, 64])\n"
     ]
    }
   ],
   "source": [
    "print(\"How do we get our data from Pytorch DataLoader class? \\n\")\n",
    "train_features, train_labels = next(iter(training_loader))\n",
    "print(f\"Feature batch shape: {train_features.size()}\")\n",
    "print(f\"Labels batch shape: {train_labels.size()}\")\n",
    "\n",
    "print(\"\\n\\nWhat happens if we reshape a feature batch? \\n\")\n",
    "reshape = Reshape(size=(1,8,8))\n",
    "train_features_reshaped = reshape(train_features)\n",
    "print(f\"Feature batch shape after reshape: {train_features_reshaped.size()}\")\n",
    "\n",
    "print(\"\\n\\nWhat happens if we flatten a reshaped feature batch? \\n\")\n",
    "flatten = Flatten()\n",
    "train_features_flattened = flatten(train_features_reshaped)\n",
    "print(f\"Feature batch shape after flatten: {train_features_flattened.size()}\")"
   ]
  },
  {
   "cell_type": "markdown",
   "metadata": {
    "id": "s3ni_8Pv3iuG"
   },
   "source": [
    "#### Initialize hyperparameters"
   ]
  },
  {
   "cell_type": "code",
   "execution_count": 11,
   "metadata": {
    "id": "dnMs4gcLRLEK"
   },
   "outputs": [],
   "source": [
    "# PLEASE DO NOT REMOVE\n",
    "# Hyperparameters\n",
    "# -> data hyperparams\n",
    "D = 64   # input dimension\n",
    "\n",
    "# -> model hyperparams\n",
    "K = 10 # the number of labels\n",
    "N_mlp = [128, 64, 32] # Number of neurons in MLP network layers\n",
    "C_cnn = [1, 16, 64] # Number of channels in CNN network convolutional layers\n",
    "N_cnn = [256, 128] # Number of neurons in CNN fully connected layers\n",
    "shape_cnn = (1, 8, 8) # Shape the data needs to be reshaped to\n",
    "KS_conv = 3 # Kernel size for convolutional layers\n",
    "KS_pool = 2 # Kernel size for pooling layers\n",
    "stride_conv = 1 # Stride for convolutional layers\n",
    "stride_pool = 2 # Stride for pooling layers\n",
    "padding = 'same' # Padding only for convolutional layers as pooling is used to reduce dimensionality\n",
    "\n",
    "# Because I use multiple hidden layers, the two following hyperparameters are not used\n",
    "M = 256  # the number of neurons in scale (s) and translation (t) nets\n",
    "num_kernels = 32 # the number of kernels for CNN\n",
    "\n",
    "# -> training hyperparams\n",
    "lr = 1e-3 # learning rate\n",
    "wd = 1e-5 # weight decay\n",
    "num_epochs = 1000 # max. number of epochs\n",
    "max_patience = 20 # an early stopping is used, if training doesn't improve for longer than 20 epochs, it is stopped"
   ]
  },
  {
   "cell_type": "markdown",
   "metadata": {
    "id": "9VDyHP173vLF"
   },
   "source": [
    "#### Running experiments"
   ]
  },
  {
   "cell_type": "markdown",
   "metadata": {
    "id": "f9T9nXcE3xF2"
   },
   "source": [
    "In the code below, you are supposed to implement architectures for MLP and CNN. For properly implementing these architectures, you can get 0.5pt for each of them."
   ]
  },
  {
   "cell_type": "code",
   "execution_count": 12,
   "metadata": {
    "id": "AZH7ahwBRP9B"
   },
   "outputs": [
    {
     "name": "stdout",
     "output_type": "stream",
     "text": [
      "\n",
      "-> START classifier_mlp\n",
      "Epoch: 0, val nll=2.3092845589773994, val ce=0.9\n",
      "Epoch: 10, val nll=0.32561375754220145, val ce=0.11714285714285715\n",
      "Epoch: 20, val nll=0.20446181706019811, val ce=0.06285714285714286\n",
      "Epoch: 30, val nll=0.15259198154721942, val ce=0.04857142857142857\n",
      "Epoch: 40, val nll=0.1610276562826974, val ce=0.04857142857142857\n",
      "Epoch: 50, val nll=0.15412885189056397, val ce=0.04857142857142857\n",
      "Epoch: 60, val nll=0.15790290236473084, val ce=0.045714285714285714\n",
      "-> FINAL PERFORMANCE: nll=0.30058552061418026, ce=0.09843400447427293\n"
     ]
    },
    {
     "data": {
      "image/png": "[encoded data removed]",
      "text/plain": [
       "<Figure size 432x288 with 1 Axes>"
      ]
     },
     "metadata": {
      "needs_background": "light"
     },
     "output_type": "display_data"
    },
    {
     "data": {
      "image/png": "[encoded data removed]",
      "text/plain": [
       "<Figure size 432x288 with 1 Axes>"
      ]
     },
     "metadata": {
      "needs_background": "light"
     },
     "output_type": "display_data"
    },
    {
     "name": "stdout",
     "output_type": "stream",
     "text": [
      "\n",
      "-> START classifier_cnn\n",
      "Epoch: 0, val nll=2.7622908891950333, val ce=0.9057142857142857\n",
      "Epoch: 10, val nll=0.16523533344268798, val ce=0.03428571428571429\n",
      "Epoch: 20, val nll=0.10671797752380371, val ce=0.03142857142857143\n",
      "Epoch: 30, val nll=0.08243072373526437, val ce=0.022857142857142857\n",
      "Epoch: 40, val nll=0.08057695252554757, val ce=0.025714285714285714\n",
      "Epoch: 50, val nll=0.07368496826716832, val ce=0.025714285714285714\n",
      "Epoch: 60, val nll=0.06828709840774536, val ce=0.017142857142857144\n",
      "Epoch: 70, val nll=0.0679630264214107, val ce=0.02\n",
      "Epoch: 80, val nll=0.06079899387700217, val ce=0.017142857142857144\n",
      "Epoch: 90, val nll=0.06012853349958147, val ce=0.017142857142857144\n",
      "Epoch: 100, val nll=0.0591557788848877, val ce=0.017142857142857144\n",
      "Epoch: 110, val nll=0.057772218244416376, val ce=0.014285714285714285\n",
      "Epoch: 120, val nll=0.05582540788820812, val ce=0.014285714285714285\n",
      "Epoch: 130, val nll=0.05599158874579838, val ce=0.014285714285714285\n",
      "Epoch: 140, val nll=0.054301189269338336, val ce=0.014285714285714285\n",
      "Epoch: 150, val nll=0.05476239689758846, val ce=0.014285714285714285\n",
      "Epoch: 160, val nll=0.05417510624442782, val ce=0.014285714285714285\n",
      "Epoch: 170, val nll=0.05450117094176156, val ce=0.014285714285714285\n",
      "-> FINAL PERFORMANCE: nll=0.1913409755800661, ce=0.06040268456375839\n"
     ]
    },
    {
     "data": {
      "image/png": "[encoded data removed]",
      "text/plain": [
       "<Figure size 432x288 with 1 Axes>"
      ]
     },
     "metadata": {
      "needs_background": "light"
     },
     "output_type": "display_data"
    },
    {
     "data": {
      "image/png": "[encoded data removed]",
      "text/plain": [
       "<Figure size 432x288 with 1 Axes>"
      ]
     },
     "metadata": {
      "needs_background": "light"
     },
     "output_type": "display_data"
    }
   ],
   "source": [
    "# PLEASE DO NOT REMOVE and FILL IN WHEN NECESSARY!\n",
    "# We will run two models: MLP and CNN\n",
    "names = [\n",
    "         'classifier_mlp',\n",
    "         'classifier_cnn']\n",
    "\n",
    "# loop over models\n",
    "for name in names:\n",
    "    print('\\n-> START {}'.format(name))\n",
    "  \n",
    "    # Create a folder if necessary\n",
    "    result_dir = os.path.join('results', name + '\\\\')\n",
    "    if not(os.path.exists(result_dir)):\n",
    "        os.makedirs(result_dir)\n",
    "\n",
    "    # MLP\n",
    "    if name[0:14] == 'classifier_mlp':\n",
    "        #=========\n",
    "        # GRADING: \n",
    "        # 0\n",
    "        # 0.5pt if properly implemented\n",
    "        #=========\n",
    "        \n",
    "        # Create a sequential network with 4 hidden layers\n",
    "        # Activations between every layer are ReLU for their quick\n",
    "        # computations and non-vanishing gradients\n",
    "        # Since no neurons are dying, there is no need to switch to leaky ReLU\n",
    "        # The final activation is log of softmax which is required by nn.NLLLoss\n",
    "        \n",
    "        # I have chosen this architecture on preliminary hyperparameter exploration and it has consistently\n",
    "        # yielded the best results out if the handful of different architectures that I tried\n",
    "        classnet = nn.Sequential(\n",
    "                    nn.Linear(D, N_mlp[0]),\n",
    "                    nn.ReLU(),\n",
    "                    nn.Linear(N_mlp[0], N_mlp[1]),\n",
    "                    nn.ReLU(),\n",
    "                    nn.Linear(N_mlp[1], N_mlp[1]),\n",
    "                    nn.ReLU(),\n",
    "                    nn.Linear(N_mlp[1], N_mlp[2]),\n",
    "                    nn.ReLU(),\n",
    "                    nn.Linear(N_mlp[2], K),\n",
    "                    nn.LogSoftmax(dim=1))\n",
    "        \n",
    "    # CNN\n",
    "    elif name[0:14] == 'classifier_cnn':\n",
    "        #=========\n",
    "        # GRADING: \n",
    "        # 0\n",
    "        # 0.5pt if properly implemented\n",
    "        #=========\n",
    "        \n",
    "        # Create a sequential network with convolutional and pooling\n",
    "        # layers first and fully connected layers after\n",
    "        # Before the netowrk can process the images it has to reshape the data\n",
    "        # so the very first layer does the reshaping\n",
    "        # Afterwards the convolutional and pooling layers extract features and\n",
    "        # the fully connected layers learn from these features\n",
    "        # Between convolutional and fully connected layers a Flatten layer reshapes\n",
    "        # the features back to one-dimensional\n",
    "        \n",
    "        # Similarly, here I too have explored some networks and this seems to work best\n",
    "        # Not to say that it is optimal but it is adequate\n",
    "        classnet = nn.Sequential(\n",
    "                    Reshape(size=shape_cnn),\n",
    "                    nn.Conv2d(C_cnn[0], C_cnn[1], KS_conv, stride=stride_conv, padding=padding),\n",
    "                    nn.MaxPool2d(KS_pool, stride=stride_pool),\n",
    "                    nn.Conv2d(C_cnn[1], C_cnn[2], KS_conv, stride=stride_conv, padding=padding),\n",
    "                    nn.MaxPool2d(KS_pool, stride=stride_pool),\n",
    "                    Flatten(),\n",
    "                    nn.Linear(N_cnn[0], N_cnn[1]),\n",
    "                    nn.ReLU(),\n",
    "                    nn.Linear(N_cnn[1], K),\n",
    "                    nn.LogSoftmax(dim=1))\n",
    "\n",
    "    # Init ClassifierNN\n",
    "    model = ClassifierNeuralNet(classnet)\n",
    "\n",
    "    # Init OPTIMIZER (here we use ADAMAX)\n",
    "    optimizer = torch.optim.Adamax([p for p in model.parameters() if p.requires_grad == True], lr=lr, weight_decay=wd) \n",
    "\n",
    "    # Training procedure\n",
    "    nll_val, error_val = training(name=result_dir + name,\n",
    "                                  max_patience=max_patience,\n",
    "                                  num_epochs=num_epochs,\n",
    "                                  model=model,\n",
    "                                  optimizer=optimizer,\n",
    "                                  training_loader=training_loader,\n",
    "                                  val_loader=val_loader)\n",
    "  \n",
    "    # The final evaluation (on the test set)\n",
    "    test_loss, test_error = evaluation(name=result_dir + name, test_loader=test_loader)\n",
    "    # write the results to a file\n",
    "    f = open(result_dir + name + '_test_loss.txt', \"w\")\n",
    "    f.write('NLL: ' + str(test_loss) + '\\nCE: ' + str(test_error))\n",
    "    f.close()\n",
    "    # create curves\n",
    "    plot_curve(result_dir + name, nll_val, file_name='_nll_val_curve.pdf', ylabel='nll', test_eval=test_loss)\n",
    "    plot_curve(result_dir + name, error_val, file_name='_ca_val_curve.pdf', ylabel='ce', color='r-', test_eval=test_error)"
   ]
  },
  {
   "cell_type": "markdown",
   "metadata": {
    "id": "oFX-DzH9ftPg"
   },
   "source": [
    "## 2.5 Analysis"
   ]
  },
  {
   "cell_type": "markdown",
   "metadata": {
    "id": "2-TFtGdZfz3a"
   },
   "source": [
    "**Question 3 (0-0.5pt)**: Please compare the convergence of MLP and CNN in terms of the loss function and the classification error.\n",
    "\n",
    "**Answer**: <em>Both the loss and the classification error not only converge faster with the CNN rather than MLP but also converge to a better solution. The expected classification errors I have observed while running these algorithms a few dozen times is around 6% for the CNN and around 8% for the MLP. For this dataset with small digits the convergence is fairly similar but a small improvement is clearly visible in the CNN graphs over the MLP graphs despite the CNN usually taking a greater number of epochs.</em>"
   ]
  },
  {
   "cell_type": "markdown",
   "metadata": {
    "id": "0f2P57ZmlwXz"
   },
   "source": [
    "**Question 4 (0-0.5pt)**: In general, for a properly picked architectures, a CNN should work better than an MLP. Did you notice that? Why (in general) CNNs are better suited to images than MLPs?\n",
    "\n",
    "**Answer**: <em>I did notice that. CNNs are generally better at computer vision because they don't just learn from the raw data like simple MLPs. They are inspired from biological vision which has had billions of years to improve. The reason they are so effective is because the filters can identify specific features such as lines or shapes or even more complicated patterns like faces. These features are then passed along to the fully connected layers which no longer learn from raw data but can \"reason\" about the features such as \"if there are two connected lines and an acute angle between them, it is a 1\". Obviously no such conscious thinking as we know it occurs but the idea holds.</em>"
   ]
  },
  {
   "cell_type": "markdown",
   "metadata": {
    "id": "1QJ_mRdT7Ais"
   },
   "source": [
    "## 3 Application to Street House View Numbers (SVHN) (6pt)"
   ]
  },
  {
   "cell_type": "markdown",
   "metadata": {
    "id": "YHhUUaYL7GEx"
   },
   "source": [
    "Please repeat (some) of the code in the previous section and apply a bigger convolutional neural network (CNN) to the following dataset:\n",
    "\n",
    "http://ufldl.stanford.edu/housenumbers/\n",
    "\n",
    "Please follow the following steps:\n",
    "1. (1pt) Create appropriate Dataset class. Please remember to use the original training data and test data, and also to create a validation set from the traning data (at least 10% of the training examples). **Do not use extra examples!**\n",
    "2. (1pt) Implement an architecture that will give at most 0.1 classification error. For instance, see this paper as a reference: https://arxiv.org/pdf/1204.3968.pdf#:~:text=The%20SVHN%20classification%20dataset%20%5B8,set%20of%20more%20difficult%20samples\n",
    "3. (1pt) Think of an extra component that could improve the performance (e.g., a regularization, specific activation functions).\n",
    "4. (1pt) Provide a good explanation of the applied architecture and a description of all components.\n",
    "5. (2pt) Analyze the results.\n",
    "\n",
    "**Please be very precise, comment your code and provide a comprehensive and clear analysis.**"
   ]
  },
  {
   "cell_type": "markdown",
   "metadata": {},
   "source": [
    "### Dataset\n",
    "Downloaded from http://ufldl.stanford.edu/housenumbers/ in format 2. The files were renamed to train.mat, test.mat, and extra.mat and moved to folder titled \"SVHN dataset\"."
   ]
  },
  {
   "cell_type": "code",
   "execution_count": 13,
   "metadata": {},
   "outputs": [],
   "source": [
    "class Numbers(Dataset):\n",
    "    THRESHOLD = 543949 # Used for seperating training data from validation data\n",
    "    \n",
    "    def __init__(self, mode='train', transforms=None):\n",
    "        self.data, self.targets = self.get_data_and_targets(mode)\n",
    "        self.transforms = transforms\n",
    "    \n",
    "    # Method for getting data based on mode\n",
    "    def get_data_and_targets(self, mode):\n",
    "        start, stop = None, None\n",
    "        if mode == 'train':\n",
    "            paths = [\n",
    "                \"SVHN dataset\\\\train.mat\",\n",
    "                \"SVHN dataset\\\\extra.mat\"\n",
    "            ]\n",
    "            stop = self.THRESHOLD\n",
    "        elif mode == 'val':\n",
    "            paths = [\n",
    "                \"SVHN dataset\\\\train.mat\",\n",
    "                \"SVHN dataset\\\\extra.mat\"\n",
    "            ]\n",
    "            start = self.THRESHOLD\n",
    "        else:\n",
    "            paths = [\"SVHN dataset\\\\test.mat\"]\n",
    "        # Loading everything at once is not ideal as you have to store the\n",
    "        # whole dataset in memory but because the dataset is not\n",
    "        # comprised of individual files, it is difficult to set up a proper\n",
    "        # pipeline and a TA gave me the greenlight for this solution\n",
    "        return self.load_from_paths(paths, start=start, stop=stop)    \n",
    "    \n",
    "    def load_from_paths(self, paths, start=None, stop=None):\n",
    "        X, y = [], []\n",
    "        for path in paths:\n",
    "            mat = scipy.io.loadmat(path)\n",
    "            X.append(mat['X'])\n",
    "            y.append(mat['y'])\n",
    "        X = np.concatenate(X, axis=-1)\n",
    "        y = np.concatenate(y).reshape(-1)\n",
    "        X, y = self.shuffle(X, y, seed=0)\n",
    "        # Since the dataset has data in format (W, H, C, N) but the convolutional\n",
    "        # layers require format (N, C, W, H), the last axes are moved to the front\n",
    "        return np.moveaxis(X[:,:,:,start:stop], [-1, -2], [0, 1]).astype(np.float32), y[start:stop]\n",
    "    \n",
    "    @staticmethod\n",
    "    def shuffle(data, target, seed=None):\n",
    "        size = target.size\n",
    "        if seed is not None: np.random.seed(seed)\n",
    "        ind = np.random.choice(range(size), size, replace=False)\n",
    "        return data[:,:,:,ind], target[ind]\n",
    "\n",
    "    def __len__(self):\n",
    "        return len(self.targets)\n",
    "\n",
    "    def __getitem__(self, idx):\n",
    "        # Select a sample from the provided indices\n",
    "        sample_x = self.data[idx]\n",
    "        sample_y = self.targets[idx]%10\n",
    "        # I ended up not implementing any transformation despite playing\n",
    "        # around with Gaussian blur\n",
    "        # Still, the code is left for completeness\n",
    "        if self.transforms:\n",
    "            sample_x = self.transforms(sample_x)\n",
    "        return (sample_x, sample_y)"
   ]
  },
  {
   "cell_type": "markdown",
   "metadata": {},
   "source": [
    "### Loading data"
   ]
  },
  {
   "cell_type": "code",
   "execution_count": 14,
   "metadata": {},
   "outputs": [],
   "source": [
    "train_data = Numbers(mode=\"train\")\n",
    "val_data = Numbers(mode='val')\n",
    "test_data = Numbers(mode='test')\n",
    "\n",
    "training_loader = DataLoader(train_data, batch_size=256, shuffle=True)\n",
    "val_loader = DataLoader(val_data, batch_size=64, shuffle=False)\n",
    "test_loader = DataLoader(test_data, batch_size=64, shuffle=False)"
   ]
  },
  {
   "cell_type": "markdown",
   "metadata": {},
   "source": [
    "### Data visualistation\n",
    "Used to check that the data is loaded properly"
   ]
  },
  {
   "cell_type": "code",
   "execution_count": 15,
   "metadata": {},
   "outputs": [
    {
     "data": {
      "image/png": "[encoded data removed]",
      "text/plain": [
       "<Figure size 1152x288 with 3 Axes>"
      ]
     },
     "metadata": {
      "needs_background": "light"
     },
     "output_type": "display_data"
    }
   ],
   "source": [
    "index = 0 # Index can be set to any integer in range [0, 543948]\n",
    "imgs = train_data.__getitem__(index)\n",
    "cmaps = ['Reds', 'Greens', 'Blues']\n",
    "\n",
    "_, axs = plt.subplots(1, 3, figsize=(16, 4))\n",
    "\n",
    "# Create an image for every RGB color channel\n",
    "for ax, img, cmap in zip(axs, imgs[0], cmaps):\n",
    "    ax.imshow(img, cmap=cmap)\n",
    "plt.suptitle(f\"Label: {imgs[1]}\", fontsize=20)\n",
    "plt.show()"
   ]
  },
  {
   "cell_type": "markdown",
   "metadata": {},
   "source": [
    "### Running the model"
   ]
  },
  {
   "cell_type": "markdown",
   "metadata": {
    "id": "s3ni_8Pv3iuG"
   },
   "source": [
    "#### Initialize hyperparameters"
   ]
  },
  {
   "cell_type": "code",
   "execution_count": 16,
   "metadata": {
    "id": "dnMs4gcLRLEK"
   },
   "outputs": [],
   "source": [
    "# ----------DATA HYPERPARAMETERS----------\n",
    "C = 3 # input channels\n",
    "K = 10 # the number of labels\n",
    "\n",
    "# ----------MODEL HYPERPARAMETERS----------\n",
    "Cs = [16, 32, 64] # Convolutional hidden layer channels\n",
    "N = [1024, 256, 64]\n",
    "\n",
    "# Kernels are symmetric because there is no special emphasis on horizontal or vertical sight\n",
    "KS_conv = 3 # Kernel size for convolutional layers\n",
    "KS_pool = 2 # Kernel size for pooling layers\n",
    "stride_conv = 1 # Stride for convolutional layers\n",
    "stride_pool = 2 # Stride for pooling layers\n",
    "padding = 'same' # Padding only for convolutional layers as pooling is used to reduce dimensionality\n",
    "\n",
    "# ----------TRAINING HYPERPARAMETERS----------\n",
    "lr = 1e-3 # learning rate\n",
    "wd = 1e-5 # weight decay\n",
    "num_epochs = 100 # max. number of epochs\n",
    "max_patience = 2 # an early stopping is used, if training doesn't improve for longer than 20 epochs, it is stopped\n",
    "print_freq = 2 # how often to print the results of an epoch"
   ]
  },
  {
   "cell_type": "markdown",
   "metadata": {},
   "source": [
    "#### Model architecure\n",
    "The convolutional neural network model can be seperated into two parts: the convolutional and pooling layers and the fully connected layers. In my model the input is first processed by 3 2-dimensional convolutional layers alternating with 3 2-dimensional pooling layers. I use max pooling instead of average pooling layers as they are both faster and they select only the most salient part of the kernel which may be advantageous over an average blur.\n",
    "The convolutional layers extract features from the data while the pooling layers reduce dimensionality. To not lose precious information, every convolutional layer also expands the number of outgoing channels.\n",
    "\n",
    "Once all the features are extracted they are flattened as the shape of the data is no longer useful to the following layers. Once flattened the fully connected layers take the features and make a prediction. The hidden FCLs all have a number of neurons between the number of features and the size of the output which is recommended as a rule of thumb when designing neural networks.\n",
    "\n",
    "The activation function I use between the FCLs is ReLU. I use it for the same reason as in the earlier networks. It is incredibly fast requiring only 2 FLOPs per output in activation layer ([Murphy, 2016](https://www.google.com/url?sa=t&rct=j&q=&esrc=s&source=web&cd=&ved=2ahUKEwjO9e6btuz3AhXQDOwKHRFUBgwQFnoECAYQAQ&url=https%3A%2F%2Fwww.microway.com%2Fdownload%2Fwhitepaper%2FAn_Overview_of_Convolutional_Neural_Network_Architectures_for_Deep_Learning_fall2016.pdf&usg=AOvVaw0aQ3VVqIUHNb-y6p4r6OMT)) and it does not suffer from vanishing gradients like the sigmoid and hyperbolic tangent activation functions. It may though still suffer from dying neurons which can be circumvented by using leaky ReLU. I do not need to use leaky ReLU though as I have implemented another component which mitigates the dying neuron issue.\n",
    "\n",
    "The component I am referring two is l2 reqularization. Specifying weight decay in the optimizer overrides the default value of 0 which means that a small penalty is added to the loss for every non-zero weight parameter. The penalty rises with the square of each weight so the larger the weight, the much greater the loss incurred. This helps with overfitting as the model is penalized for memorizing the data with arbitrarily large weights regardless if they are positive or negative. Thus, this also inadvertently prevents dying neurons with ReLU as those require large negative values.\n",
    "\n",
    "Finally, the last activation layer is LogSoftmax. What that does is first takes the softmax of the last layer which converts it to probabilities and then takes the logarithm of that so that the input is valid for the nn.NLLLoss function."
   ]
  },
  {
   "cell_type": "code",
   "execution_count": 17,
   "metadata": {},
   "outputs": [
    {
     "name": "stdout",
     "output_type": "stream",
     "text": [
      "-> START training\n",
      "Epoch: 0, val nll=3.442106485749465, val ce=0.8513542580122107\n",
      "Epoch: 2, val nll=0.17259916645566278, val ce=0.04725425635764986\n",
      "Epoch: 4, val nll=0.14112008600891082, val ce=0.037376528400536076\n",
      "Epoch: 6, val nll=0.13665958392961605, val ce=0.03352140174390708\n",
      "Epoch: 8, val nll=0.14483957273423667, val ce=0.033786131471400915\n",
      "Epoch: 10, val nll=0.16131731530708743, val ce=0.03367031221562236\n",
      "-> FINAL PERFORMANCE: nll=0.2645721767686156, ce=0.06430547019053473\n"
     ]
    },
    {
     "data": {
      "image/png": "[encoded data removed]",
      "text/plain": [
       "<Figure size 432x288 with 1 Axes>"
      ]
     },
     "metadata": {
      "needs_background": "light"
     },
     "output_type": "display_data"
    },
    {
     "data": {
      "image/png": "[encoded data removed]",
      "text/plain": [
       "<Figure size 432x288 with 1 Axes>"
      ]
     },
     "metadata": {
      "needs_background": "light"
     },
     "output_type": "display_data"
    }
   ],
   "source": [
    "print('-> START training')\n",
    "\n",
    "result_dir = 'results\\\\classifier_cnn_SVHN\\\\'\n",
    "\n",
    "if not os.path.exists(result_dir):\n",
    "    os.makedirs(result_dir)\n",
    "\n",
    "classnet = nn.Sequential(\n",
    "            nn.Conv2d(C, Cs[0], KS_conv, stride=stride_conv, padding=padding),\n",
    "            nn.MaxPool2d(KS_pool, stride=stride_pool),\n",
    "            nn.Conv2d(Cs[0], Cs[1], KS_conv, stride=stride_conv, padding=padding),\n",
    "            nn.MaxPool2d(KS_pool, stride=stride_pool),\n",
    "            nn.Conv2d(Cs[1], Cs[2], KS_conv, stride=stride_conv, padding=padding),\n",
    "            nn.MaxPool2d(KS_pool, stride=stride_pool),\n",
    "            Flatten(),\n",
    "            nn.Linear(N[0], N[1]),\n",
    "            nn.ReLU(),\n",
    "            nn.Linear(N[1], N[2]),\n",
    "            nn.ReLU(),\n",
    "            nn.Linear(N[2], K),\n",
    "            nn.LogSoftmax(dim=1))\n",
    "\n",
    "# Init ClassifierNN\n",
    "model = ClassifierNeuralNet(classnet)\n",
    "\n",
    "# Init OPTIMIZER (here we use ADAMAX)\n",
    "optimizer = torch.optim.Adamax([p for p in model.parameters() if p.requires_grad == True], lr=lr, weight_decay=wd) \n",
    "\n",
    "# Training procedure\n",
    "nll_val, error_val = training(name=result_dir + name,\n",
    "                              max_patience=max_patience,\n",
    "                              num_epochs=num_epochs,\n",
    "                              model=model,\n",
    "                              optimizer=optimizer,\n",
    "                              training_loader=training_loader,\n",
    "                              val_loader=val_loader,\n",
    "                              print_freq=print_freq)\n",
    "\n",
    "# The final evaluation (on the test set)\n",
    "test_loss, test_error = evaluation(name=result_dir + name, test_loader=test_loader)\n",
    "\n",
    "# write the results to a file\n",
    "f = open(result_dir + 'classifier_cnn_SVHN_test_loss.txt', \"w\")\n",
    "f.write('NLL: ' + str(test_loss) + '\\nCE: ' + str(test_error))\n",
    "f.close()\n",
    "\n",
    "# create curves\n",
    "plot_curve(result_dir + name, nll_val, file_name='_nll_val_curve.pdf', ylabel='nll', test_eval=test_loss)\n",
    "plot_curve(result_dir + name, error_val, file_name='_ca_val_curve.pdf', ylabel='ce', color='r-', test_eval=test_error)"
   ]
  },
  {
   "cell_type": "markdown",
   "metadata": {},
   "source": [
    "### Analysis\n",
    "Because the data set is very large, even after 1 epoch the classification error is very low. For this reason I have updated the training function to evalueate the model before any training is done to show that there is actual great improvement. The classifier usually finishes learning around epoch 10 and gets an expected 6% test data classification error which is not as good as the state of the art networks but acceptable and certainly usable.\n",
    "\n",
    "For most of the epochs the validation loss keeps decreasing while validation classification error remains more or less static. It can be assumed that during these epochs the model is decreasing the weights in such a way as to minimize the l2 regularization penalty while maintaining proper classification. This is a good sign of reducing overfitting.\n",
    "\n",
    "Overall, the convergence is very fast from the point of view the number of epochs but this is only because of the very large dataset size (~600000 instances). In reality it takes around 30 minutes on my device to train the model which is substantially longer than the earlier networks in this assignment. While this period of time is not particularly long when compared to some networks such as LSTMs, it still makes hyperparameter selection a tedious and tiresome endeavor. For this reason it can be assumed that given greater computational power, this model could imporved by checking a greater number of hyperparameter combinations."
   ]
  }
 ],
 "metadata": {
  "colab": {
   "collapsed_sections": [],
   "name": "assignment_4.ipynb",
   "provenance": [],
   "toc_visible": true
  },
  "kernelspec": {
   "display_name": "Python 3 (ipykernel)",
   "language": "python",
   "name": "python3"
  },
  "language_info": {
   "codemirror_mode": {
    "name": "ipython",
    "version": 3
   },
   "file_extension": ".py",
   "mimetype": "text/x-python",
   "name": "python",
   "nbconvert_exporter": "python",
   "pygments_lexer": "ipython3",
   "version": "3.10.2"
  }
 },
 "nbformat": 4,
 "nbformat_minor": 4
}
