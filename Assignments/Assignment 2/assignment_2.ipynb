{
 "cells": [
  {
   "cell_type": "markdown",
   "metadata": {
    "id": "QRBDdr0SEqpT"
   },
   "source": [
    "# Assignment 2"
   ]
  },
  {
   "cell_type": "markdown",
   "metadata": {
    "id": "8xd57TRzExEr"
   },
   "source": [
    "**Assignment 2: Sampling**\n",
    "\n",
    "**Goal**: ​​Get familiar with sampling methods by implementing these methods and applying them to a given probability distribution."
   ]
  },
  {
   "cell_type": "markdown",
   "metadata": {
    "id": "yHNgWB1iFDu5"
   },
   "source": [
    "In this assignment we are going to learn about sampling methods. The goal is to implement *Metropolis-Hastings** (MH) algorithm and **Simulated Annealing** (SA) algorithm and analyze their behavior. Importantly, we aim at noticing differences between these two methods.\n",
    "\n",
    "Here, we are interested in ​**sampling**​ from a mixture of two Gaussians, namely:\n",
    "\n",
    "$$\n",
    "p(\\mathbf{x}) = 0.25\\cdot \\mathcal{N}\\left(\\mu = \\begin{bmatrix} 2 \\\\ 2 \\end{bmatrix}, \\Sigma = \\begin{bmatrix} 1 & 0.5 \\\\ 0.5 & 1 \\end{bmatrix} \\right) + 0.75\\cdot \\mathcal{N}\\left(\\mu = \\begin{bmatrix} -3 \\\\ -3 \\end{bmatrix}, \\Sigma = \\begin{bmatrix} 1 & 0 \\\\ 0 & 1 \\end{bmatrix}\\right)\n",
    "$$\n",
    "\n",
    "In this assignemnt, you are asked to implement:\n",
    "1. The Metropolis-Hastings (MH) algorithm.\n",
    "2. The simulated annealing (SA) algorithm.\n",
    "\n",
    "After implementing both methods, please run experiments and compare both methods. Please follow all instructions."
   ]
  },
  {
   "cell_type": "markdown",
   "metadata": {
    "id": "Jxgc7c--P0GH"
   },
   "source": [
    "## 1. Understanding the probability distribution"
   ]
  },
  {
   "cell_type": "markdown",
   "metadata": {
    "id": "oRteDLEPP3eX"
   },
   "source": [
    "Please run the code below and visualize the probability distribution. Please try to understand this distribution, what the modes are (you can do it by inspecting the plot). What are possible problems here?\n",
    "\n",
    "If any code line is unclear to you, please read on that in numpy or matplotlib docs."
   ]
  },
  {
   "cell_type": "code",
   "execution_count": 1,
   "metadata": {
    "id": "g4wCnPRz-MaE"
   },
   "outputs": [],
   "source": [
    "import numpy as np\n",
    "import matplotlib.pyplot as plt\n",
    "from scipy.stats import multivariate_normal\n",
    "\n",
    "EPS = 1.e-7"
   ]
  },
  {
   "cell_type": "code",
   "execution_count": 2,
   "metadata": {
    "id": "JzHAz9R5-dfQ"
   },
   "outputs": [],
   "source": [
    "# PLEASE DO NOT REMOVE!\n",
    "# The definition of the probability distribution.\n",
    "mv1 = multivariate_normal(mean=[2.,2.], cov=[[1., 0.5],[0.5, 1.]])\n",
    "mv2 = multivariate_normal(mean=[-3.,-3.], cov=[[1., 0.],[0., 1.]])\n",
    "\n",
    "def prob(x):\n",
    "    return 0.25 * mv1.pdf(x) + 0.75 * mv2.pdf(x)"
   ]
  },
  {
   "cell_type": "code",
   "execution_count": 3,
   "metadata": {
    "id": "Qs3gdKfAC25-"
   },
   "outputs": [],
   "source": [
    "# PLEASE DO NOT REMOVE!\n",
    "# Calculating the probability distribution.\n",
    "def calculate_p(x1, x2):\n",
    "    p_x = []\n",
    "    for i in range(len(x1)):\n",
    "        for j in range(len(x2)):\n",
    "            p_x.append(prob(np.asarray([[x1[i], x2[j]]])))\n",
    "    \n",
    "    return np.asarray(p_x).reshape(len(x1), len(x2))"
   ]
  },
  {
   "cell_type": "code",
   "execution_count": 4,
   "metadata": {
    "id": "DdDjKDRI-u76"
   },
   "outputs": [],
   "source": [
    "# PLEASE DO NOT REMOVE!\n",
    "# Define coordinates\n",
    "x1 = np.linspace(-10., 10., 400)\n",
    "x2 = np.linspace(-10., 10., 400)\n",
    "\n",
    "# Calculate the objective\n",
    "p_x = calculate_p(x1, x2).reshape(len(x1), len(x2))"
   ]
  },
  {
   "cell_type": "code",
   "execution_count": 5,
   "metadata": {
    "id": "QtAKEWqt_Mkt"
   },
   "outputs": [
    {
     "data": {
      "text/plain": [
       "<matplotlib.colorbar.Colorbar at 0x143bf9024d0>"
      ]
     },
     "execution_count": 5,
     "metadata": {},
     "output_type": "execute_result"
    },
    {
     "data": {
      "image/png": "[encoded data removed]",
      "text/plain": [
       "<Figure size 432x288 with 2 Axes>"
      ]
     },
     "metadata": {
      "needs_background": "light"
     },
     "output_type": "display_data"
    }
   ],
   "source": [
    "# PLEASE DO NOT REMOVE!\n",
    "# Plot the objective\n",
    "plt.contourf(x1, x2, p_x, 100, cmap='hot')\n",
    "plt.colorbar()"
   ]
  },
  {
   "cell_type": "markdown",
   "metadata": {
    "id": "mX7AK9Q_5OWj"
   },
   "source": [
    "**Question 1 (0-0.5pt):** How many modes do we have and what are they? What is the most probable point?\n",
    "\n",
    "**Answer:**\n",
    "<em>There are two modes here. The peak of the first is at coordinate (2, 2). The peak of the second one is at coordinate (-3, -3). The most probable point is the peak of the second mode at (-3, -3) as that mode is weighed 3 times higher or in other words is 3 times more probable.</em>"
   ]
  },
  {
   "cell_type": "markdown",
   "metadata": {
    "id": "wgc_GFOyRBEi"
   },
   "source": [
    "## 2. The Metropolis-Hastings algorithm"
   ]
  },
  {
   "cell_type": "markdown",
   "metadata": {
    "id": "gDVf1vyORGUB"
   },
   "source": [
    "First, you are asked to implement the Metropolis-Hastings (MH) algorithm. Please take a look at the class below and fill in the missing parts.\n",
    "\n",
    "NOTE: Please pay attention to the inputs and outputs of each function.\n",
    "\n",
    "NOTE: To implement the MH algorithm, you need to specify the proposal distribution."
   ]
  },
  {
   "cell_type": "markdown",
   "metadata": {
    "id": "76QTS-BHRlch"
   },
   "source": [
    "**Question 2 (0-0.5pt):** What is the proposal distribution, $q(\\mathbf{x}_{new} | \\mathbf{x}_{old})$, in your case?\n",
    "\n",
    "**Answer:**\n",
    "<em>The proposal distribution is a normal distribution with the mean at $x_t$. It looks like $q(x|x_t) = \\mathcal{N}(x|x_t, \\Sigma)$.</em>"
   ]
  },
  {
   "cell_type": "markdown",
   "metadata": {
    "id": "3tXZyvcW0Cr_"
   },
   "source": [
    "**Question 3 (0-0.5pt):** Is your proposal a proper proposal distribution? (That is, it must fulfill irreducibility and aperiodicity, see Andrieu et al., \"An Introduction to MCMC for Machine Learning\".)\n",
    "\n",
    "**Answer:**\n",
    "<em>It is a proper proposal distribution because despite having a lower likelihood the further away from the mean a point is, it never becomes zero and so all states are reachable and thus irreducibility is satisfied. Furthermore, aperiodicity is maintained because the points are selected at random. Mode collapse can happen if covariance is too low but this is still not periodic.</em>"
   ]
  },
  {
   "cell_type": "code",
   "execution_count": 173,
   "metadata": {
    "id": "Vtv_pAkmOrS3"
   },
   "outputs": [],
   "source": [
    "#=========\n",
    "# GRADING:\n",
    "# 0\n",
    "# 0.5pt if properly implemented but badly commented\n",
    "# 1.0 pt if properly implemented and clear\n",
    "#=========\n",
    "# Implement the Metropolis Hastings (MH) algorithm.\n",
    "# It might be you use another arguments beside standard deviation (std).\n",
    "# Please add them then. \n",
    "\n",
    "class MetropolisHastings(object):\n",
    "    def __init__(self, x, prob, std=0.01):\n",
    "        self.notprob = prob\n",
    "        self.std = std\n",
    "        self.variance = np.array([[std, 0],\n",
    "                                  [0, std]])\n",
    "        self.x_old = x\n",
    "\n",
    "    def proposal(self, x):\n",
    "        return np.random.multivariate_normal(x, self.variance)\n",
    "\n",
    "    def evaluate(self, x_new, x_old):\n",
    "        new_given_old = multivariate_normal.pdf(x_new, mean=x_old, cov=self.variance)\n",
    "        old_given_new = multivariate_normal.pdf(x_old, mean=x_new, cov=self.variance)\n",
    "        A = prob(x_new)/prob(x_old)*old_given_new/new_given_old\n",
    "        return np.minimum(1., A)\n",
    "  \n",
    "    def select(self, x_new, A):\n",
    "        return x_new if A > np.random.rand() else self.x_old\n",
    "\n",
    "    def step(self):\n",
    "        # 0. Reshape data for calculations\n",
    "        x = self.x_old.reshape(-1)\n",
    "        # 1. Proposal\n",
    "        x_prop = self.proposal(x)\n",
    "        # 2. Evaluate\n",
    "        A = self.evaluate(x_prop, x)\n",
    "        # 3. Select\n",
    "        x_new = self.select(x_prop, A).reshape(1, -1)\n",
    "        # Lastly, save the new value\n",
    "        self.x_old = x_new\n",
    "        return x_new"
   ]
  },
  {
   "cell_type": "code",
   "execution_count": 174,
   "metadata": {
    "id": "gNCsf37T4gcp"
   },
   "outputs": [],
   "source": [
    "# PLEASE DO NOT REMOVE!\n",
    "# An auxiliary function for plotting.\n",
    "def plot_sampling_process(ax, sampler, title):\n",
    "    # Plot the objective function\n",
    "    ax.contourf(x1, x2, p_x/p_x.sum(), 100, cmap='hot')\n",
    "\n",
    "    # Init the solution\n",
    "    x_samp = sampler.x_old\n",
    "    # Run the optimization algorithm\n",
    "    count = 0 # we calculate how many of new candidates were accepted\n",
    "    for i in range(num_epochs):\n",
    "        x = sampler.step()\n",
    "\n",
    "        if (x == x_samp[-1]).all():\n",
    "            pass\n",
    "        else:\n",
    "            count = count + 1\n",
    "            x_samp = np.concatenate((x_samp, x),0)\n",
    "\n",
    "    ax.scatter(x_samp[:,0], x_samp[:,1], marker='+', s=1, alpha=0.5)\n",
    "    # We add AR (Acceptance Rate) to the title.\n",
    "    ax.set_title(title + ' AR={:.2f}'.format(count/num_epochs))"
   ]
  },
  {
   "cell_type": "code",
   "execution_count": 175,
   "metadata": {
    "id": "s6meSu2l5gYw"
   },
   "outputs": [
    {
     "data": {
      "image/png": "[encoded data removed]",
      "text/plain": [
       "<Figure size 1440x216 with 6 Axes>"
      ]
     },
     "metadata": {
      "needs_background": "light"
     },
     "output_type": "display_data"
    }
   ],
   "source": [
    "# PLEASE DO NOT REMOVE!\n",
    "# Running the MH algorithm with different step sizes\n",
    "num_epochs = 1500 # the number of epochs\n",
    "stds = [0.1, 0.1, 0.1, 0.5, 0.5, 0.5] # we repeat experiments 3 times per std\n",
    "## If you add any other hyperparameters, please include them during init!\n",
    "## However, please do not include them in the for-loop. It should stay for stds only.\n",
    "\n",
    "# plotting the convergence of the MH\n",
    "fig_mh, axs = plt.subplots(1,len(stds),figsize=(20, 3))\n",
    "fig_mh.tight_layout()\n",
    "\n",
    "x_init = np.asarray([[0., 0.]])\n",
    "\n",
    "for i, std in enumerate(stds):\n",
    "    # init the MH\n",
    "    mh = MetropolisHastings(x=x_init, prob=p_x, std=std)\n",
    "    # plot the convergence\n",
    "    plot_sampling_process(axs[i], sampler=mh, title='Std ' + str(mh.std))"
   ]
  },
  {
   "cell_type": "markdown",
   "metadata": {
    "id": "5KBcdBUEDRLF"
   },
   "source": [
    "**Question 4 (0-0.5)**: Please comment on the behavior of the MH for different values of the standard deviation. Is it always possible to sample from both modes?\n",
    "\n",
    "**Answer**: PLEASE FILL IN"
   ]
  },
  {
   "cell_type": "markdown",
   "metadata": {
    "id": "Po6A8rtbzVKA"
   },
   "source": [
    "**Question 5 (0-0.5)**: Please comment on the acceptance ratio (AR) for std=0.1 and std=0.5. How can you explain the difference?\n",
    "\n",
    "**Answer**: <em>The AR for std=0.1 is around 0.83 and around 0.65 for std=0.5. The reason for a greater AR with the lower standard deviation can likely be attributed to the fact that points are usually generated closer to $x_t$ and less frequently outside of the estimated distribution where most of the rejection happens.</em>"
   ]
  },
  {
   "cell_type": "markdown",
   "metadata": {
    "id": "mAMgPBGV_oJu"
   },
   "source": [
    "## 3. The simulated annealing (SA) sampling"
   ]
  },
  {
   "cell_type": "markdown",
   "metadata": {
    "id": "inAKXR7w_svO"
   },
   "source": [
    "In the second part of this assignment, you are asked to implement the Simulated Annealing (SA) algorithm with cooling scheme as dicussed during the lecture."
   ]
  },
  {
   "cell_type": "markdown",
   "metadata": {
    "id": "0FQ1dxuy3rhC"
   },
   "source": [
    "**Question 6 (0-0.5pt)**: Please explain what is the difference between MH and SA?\n",
    "\n",
    "**Answer**: PLEASE FILL IN"
   ]
  },
  {
   "cell_type": "markdown",
   "metadata": {
    "id": "NiaMb98a3vse"
   },
   "source": [
    "**Question 7 (0-0.5pt)**: Why is SA sometimes more preferrable than MH? Which of these two methods would you use for optimization (not sampling)?\n",
    "\n",
    "**Answer**: PLEASE FILL IN"
   ]
  },
  {
   "cell_type": "code",
   "execution_count": null,
   "metadata": {
    "id": "hn_mYv2c6T4-"
   },
   "outputs": [],
   "source": [
    "#=========\n",
    "# GRADING:\n",
    "# 0\n",
    "# 0.5pt if properly implemented but badly commented\n",
    "# 1.0 pt if properly implemented and clear\n",
    "# NOTE: The cooling scheme must be properly implemented!\n",
    "#=========\n",
    "# Implement the Simulated Annealing (SA) algorithm. \n",
    "# It is equivalent to implementing the step function.\n",
    "class SimulatedAnnealing(object):\n",
    "    def __init__(self, x, prob, std=0.1, T0=1., C=1.):\n",
    "        self.prob = prob\n",
    "        self.std = std\n",
    "        self.x_old = x\n",
    "        self.T0 = T0\n",
    "        self.C = C\n",
    "        self.t = 0 # we init the step number to 0; we need it for cooling scheme\n",
    "\n",
    "    def proposal(self, x):\n",
    "        # PLEASE FILL IN\n",
    "        #...\n",
    "        # x_new = ...\n",
    "        return x_new\n",
    "\n",
    "    def evaluate(sef, x_new, x_old, T):\n",
    "        # PLEASE FILL IN\n",
    "        # ...\n",
    "        # A = ...\n",
    "        return np.minimum(1., A)\n",
    "  \n",
    "    def select(self, x_new, A):\n",
    "        # PLEASE FILL IN\n",
    "        # ...\n",
    "\n",
    "    def step(self):\n",
    "        # The temperature scheme (the cooling scheme)\n",
    "        # PLEASE FILL IN\n",
    "        # T = ...\n",
    "        self.t = self.t + 1\n",
    "        # 1. Proposal\n",
    "        x_prop = self.proposal(self.x_old)\n",
    "        # 2. Evaluate\n",
    "        A = self.evaluate(x_prop, self.x_old, T)\n",
    "        # 3. Select\n",
    "        x_new = self.select(x_prop, A)\n",
    "        return x_new"
   ]
  },
  {
   "cell_type": "code",
   "execution_count": null,
   "metadata": {
    "id": "VMwwd_6zEZF6"
   },
   "outputs": [],
   "source": [
    "# PLEASE DO NOT REMOVE!\n",
    "# Running the SA algorithm with different step sizes\n",
    "num_epochs = 1500 # the number of epochs\n",
    "stds_sa = [0.1, 0.1, 0.1, 0.5, 0.5, 0.5] # values of std; notice we repeat them due to randomness\n",
    "T0s = [0.1, 1., 10.] # values of T0\n",
    "Cs = [.1, 1., 10.] # values of C\n",
    "\n",
    "# plotting the convergence of the MH\n",
    "fig_sa, axs = plt.subplots(len(Cs) * len(T0s),len(stds_sa),figsize=(20, 18))\n",
    "fig_sa.tight_layout()\n",
    "\n",
    "# Always start with the same point\n",
    "x_init = np.asarray([[0., 0.]])\n",
    "\n",
    "# START SA\n",
    "for i in range(len(Cs)):\n",
    "# Take a value for C\n",
    "C = Cs[i]\n",
    "    for k in range(len(T0s)):\n",
    "        # Take a value for the init temperature T0\n",
    "        T0 = T0s[k]\n",
    "        for j in range(len(stds_sa)):\n",
    "            # take the std\n",
    "            std = stds_sa[j]\n",
    "            # init the SA\n",
    "            sa = SimulatedAnnealing(x=x_init, prob=p_x, std=std, T0=T0, C=C)\n",
    "            # plot the sampling process\n",
    "            plot_sampling_process(axs[len(T0s)*i+k,j], sampler=sa, title='Std ' + str(sa.std) + ' T0 ' + str(T0) + ' C ' + str(C))"
   ]
  },
  {
   "cell_type": "markdown",
   "metadata": {
    "id": "4omq4-84e3mX"
   },
   "source": [
    "**Question 8 (0-0.5pt)** How does the standard deviation influence the SA?\n",
    "\n",
    "**Answer:** PLEASE FILL IN"
   ]
  },
  {
   "cell_type": "markdown",
   "metadata": {
    "id": "ZGgP2IPk4X9K"
   },
   "source": [
    "**Question 9 (0-0.5pt)** How does the initial temperature, $T_0$, influence the SA?\n",
    "\n",
    "**Answer:** PLEASE FILL IN"
   ]
  },
  {
   "cell_type": "markdown",
   "metadata": {
    "id": "CdSsovfp4c5V"
   },
   "source": [
    "**Question 10 (0-0.5pt)** How does the constant $C$ influence the SA?\n",
    "\n",
    "**Answer:** PLEASE FILL IN"
   ]
  },
  {
   "cell_type": "markdown",
   "metadata": {
    "id": "TVlPTsQ-4gYH"
   },
   "source": [
    "**Question 11 (0-0.5pt)** Which setting (i.e., std, $T_0$, $C$) did perform the best in terms of sampling?\n",
    "\n",
    "**Answer:** PLEASE FILL IN"
   ]
  },
  {
   "cell_type": "markdown",
   "metadata": {
    "id": "Etrkq0Hz4nFi"
   },
   "source": [
    "**Question 12 (0-0.5pt)** How do different values of the hyperparameters (i.e., std, $T_0$, $C$) influence the acceptance ratio (AR)? Why?\n",
    "\n",
    "**Answer:** PLEASE FILL IN"
   ]
  },
  {
   "cell_type": "markdown",
   "metadata": {
    "id": "oFX-DzH9ftPg"
   },
   "source": [
    "## 4. Final remarks: MH vs. SA"
   ]
  },
  {
   "cell_type": "markdown",
   "metadata": {
    "id": "2-TFtGdZfz3a"
   },
   "source": [
    "Eventually, please answer the following last questions that will allow you to conclude the assignment and draw conclusions.\n",
    "\n",
    "**Question 13 (0-0.5-1pt)**: Which of the two algorithms did perform better? Why?\n",
    "\n",
    "**Answer**: PLEASE FILL IN"
   ]
  },
  {
   "cell_type": "markdown",
   "metadata": {
    "id": "-uMTEmFI57Ha"
   },
   "source": [
    "**Question 14 (0-0.5-1pt)**: Which of the two algorithms is easier to use? Why?\n",
    "\n",
    "**Answer**: PLEASE FILL IN"
   ]
  }
 ],
 "metadata": {
  "colab": {
   "collapsed_sections": [],
   "name": "assignment_2.ipynb",
   "provenance": [],
   "toc_visible": true
  },
  "kernelspec": {
   "display_name": "Python 3 (ipykernel)",
   "language": "python",
   "name": "python3"
  },
  "language_info": {
   "codemirror_mode": {
    "name": "ipython",
    "version": 3
   },
   "file_extension": ".py",
   "mimetype": "text/x-python",
   "name": "python",
   "nbconvert_exporter": "python",
   "pygments_lexer": "ipython3",
   "version": "3.10.2"
  }
 },
 "nbformat": 4,
 "nbformat_minor": 4
}
