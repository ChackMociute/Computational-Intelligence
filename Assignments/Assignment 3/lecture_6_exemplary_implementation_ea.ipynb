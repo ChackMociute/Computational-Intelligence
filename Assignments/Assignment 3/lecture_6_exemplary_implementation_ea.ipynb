{
 "cells": [
  {
   "cell_type": "code",
   "execution_count": 1,
   "metadata": {},
   "outputs": [],
   "source": [
    "import numpy as np\n",
    "import matplotlib.pyplot as plt"
   ]
  },
  {
   "cell_type": "code",
   "execution_count": 2,
   "metadata": {},
   "outputs": [],
   "source": [
    "class EA(object):\n",
    "    def __init__(self, obj_fun, pop_size, std=0.1):\n",
    "        self.obj_fun = obj_fun\n",
    "        self.pop_size = pop_size\n",
    "        self.std = std\n",
    "    \n",
    "    def fitness(self, x):\n",
    "        return self.obj_fun(x)\n",
    "    \n",
    "    def mutation(self, x, std=0.1):\n",
    "        return x + np.random.randn(x.shape[0], x.shape[1]) * std\n",
    "    \n",
    "    def recombination(self, x):\n",
    "        return x\n",
    "    \n",
    "    def selection(self, x_old, f_old, x, f):\n",
    "        x_cat = np.concatenate([x, x_old], 0)\n",
    "        f_cat = np.concatenate([f, f_old])\n",
    "        ind = np.argsort(f_cat)\n",
    "        x = x_cat[ind]\n",
    "        f = f_cat[ind]\n",
    "        return x[:self.pop_size], f[:self.pop_size]\n",
    "    \n",
    "    def step(self, x_old, f_old):\n",
    "        x = self.recombination(x_old)\n",
    "        x = self.mutation(x, std=self.std)\n",
    "        f = self.fitness(x)\n",
    "        x, f = self.selection(x_old, f_old, x, f)\n",
    "        \n",
    "        return x, f"
   ]
  },
  {
   "cell_type": "code",
   "execution_count": 3,
   "metadata": {},
   "outputs": [],
   "source": [
    "def obj_fun(x):\n",
    "    return x[:,0]**2. + x[:,1]**2"
   ]
  },
  {
   "cell_type": "code",
   "execution_count": 4,
   "metadata": {},
   "outputs": [],
   "source": [
    "pop_size = 20\n",
    "generations = 8\n",
    "std = 0.5"
   ]
  },
  {
   "cell_type": "code",
   "execution_count": 5,
   "metadata": {},
   "outputs": [],
   "source": [
    "ea = EA(obj_fun, pop_size=pop_size, std=std)"
   ]
  },
  {
   "cell_type": "code",
   "execution_count": 6,
   "metadata": {},
   "outputs": [],
   "source": [
    "x = 4. * (2.*np.random.rand(pop_size,2) - 1.)\n",
    "f = obj_fun(x)"
   ]
  },
  {
   "cell_type": "code",
   "execution_count": 7,
   "metadata": {
    "scrolled": true
   },
   "outputs": [
    {
     "data": {
      "text/plain": [
       "<matplotlib.legend.Legend at 0x1dd1ae39f90>"
      ]
     },
     "execution_count": 7,
     "metadata": {},
     "output_type": "execute_result"
    },
    {
     "data": {
      "image/png": "[encoded data removed]",
      "text/plain": [
       "<Figure size 432x288 with 1 Axes>"
      ]
     },
     "metadata": {
      "needs_background": "light"
     },
     "output_type": "display_data"
    }
   ],
   "source": [
    "optimum = np.asarray([0., 0.])\n",
    "for i in range(generations):\n",
    "    plt.scatter(x[:,0], x[:,1], c='c', alpha=(i+1.)/(generations+1.), label=i)\n",
    "    x, f = ea.step(x, f)\n",
    "i+=1\n",
    "plt.scatter(x[:,0], x[:,1], c='c', alpha=(i+1.)/(generations+1.), label=i)\n",
    "plt.scatter(optimum[0], optimum[1], c='r', marker='x', s=100, linewidths=5, label='optimum')\n",
    "plt.legend(loc='center left', bbox_to_anchor=(1, 0.5))"
   ]
  },
  {
   "cell_type": "code",
   "execution_count": null,
   "metadata": {},
   "outputs": [],
   "source": []
  }
 ],
 "metadata": {
  "kernelspec": {
   "display_name": "Python 3 (ipykernel)",
   "language": "python",
   "name": "python3"
  },
  "language_info": {
   "codemirror_mode": {
    "name": "ipython",
    "version": 3
   },
   "file_extension": ".py",
   "mimetype": "text/x-python",
   "name": "python",
   "nbconvert_exporter": "python",
   "pygments_lexer": "ipython3",
   "version": "3.10.3"
  }
 },
 "nbformat": 4,
 "nbformat_minor": 4
}
